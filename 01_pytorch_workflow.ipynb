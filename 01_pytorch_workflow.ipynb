{
  "nbformat": 4,
  "nbformat_minor": 0,
  "metadata": {
    "colab": {
      "provenance": [],
      "gpuType": "T4"
    },
    "kernelspec": {
      "name": "python3",
      "display_name": "Python 3"
    },
    "language_info": {
      "name": "python"
    },
    "accelerator": "GPU"
  },
  "cells": [
    {
      "cell_type": "markdown",
      "source": [
        "# **PyTorch Workflow**"
      ],
      "metadata": {
        "id": "bxhCXK5XwmqJ"
      }
    },
    {
      "cell_type": "code",
      "source": [
        "what_were_covering = {1: \"data (prepare and load)\",\n",
        "                      2: \"build model\",\n",
        "                      3: \"fitting the model to data (training)\",\n",
        "                      4: \"making predictions and evaluating a model\",\n",
        "                      5: \"saving and loading a model\",\n",
        "                      6: \"putting it all together\"\n",
        "\n",
        "}\n",
        "what_were_covering"
      ],
      "metadata": {
        "colab": {
          "base_uri": "https://localhost:8080/"
        },
        "id": "kNjFJSuDH863",
        "outputId": "b40372c4-f1c6-4701-97d5-c0d173d31c28"
      },
      "execution_count": 1,
      "outputs": [
        {
          "output_type": "execute_result",
          "data": {
            "text/plain": [
              "{1: 'data (prepare and load)',\n",
              " 2: 'build model',\n",
              " 3: 'fitting the model to data (training)',\n",
              " 4: 'making predictions and evaluating a model',\n",
              " 5: 'saving and loading a model',\n",
              " 6: 'putting it all together'}"
            ]
          },
          "metadata": {},
          "execution_count": 1
        }
      ]
    },
    {
      "cell_type": "code",
      "source": [
        "import torch\n",
        "from torch import nn # nn contains all of pytorch's building blocks for neural networks\n",
        "import matplotlib.pyplot as plt\n",
        "\n",
        "\n",
        "# check PyTorch version\n",
        "torch.__version__"
      ],
      "metadata": {
        "colab": {
          "base_uri": "https://localhost:8080/",
          "height": 36
        },
        "id": "oNMf0Fj6Ia8g",
        "outputId": "cdd6ff96-b488-48ce-8b81-0cb4905f795d"
      },
      "execution_count": 2,
      "outputs": [
        {
          "output_type": "execute_result",
          "data": {
            "text/plain": [
              "'2.6.0+cu124'"
            ],
            "application/vnd.google.colaboratory.intrinsic+json": {
              "type": "string"
            }
          },
          "metadata": {},
          "execution_count": 2
        }
      ]
    },
    {
      "cell_type": "markdown",
      "source": [
        "#  Data (Preparing and Loading)\n",
        "\n",
        "* Excel spreadsheet\n",
        "* Images\n",
        "* Videos\n",
        "* Audio\n",
        "* DNA\n",
        "* Text\n",
        "\n",
        "**Machine learning is a game of two parts:**\n",
        "1. Get data into a numerical representation\n",
        "2. Build a model to learn patterns in that numerical representation\n",
        "\n",
        "To showcase this, let's create some *known* data using the `Linear Regression` formula.\n",
        "\n",
        "We'll use an `linear regression` formula to make a straight line with known **parameters**. (Parameter is something that a model learns)\n",
        "\n"
      ],
      "metadata": {
        "id": "OQOtGjlgI8t-"
      }
    },
    {
      "cell_type": "code",
      "source": [
        "# create knows parameters\n",
        "weight = 0.7\n",
        "bias = 0.3\n",
        "\n",
        "# let's create a range of numbers:\n",
        "start = 0\n",
        "end = 1\n",
        "step = 0.02\n",
        "X = torch.arange(start, end, step).unsqueeze(dim=1) #unsqueeze adds a dimension (third bracket - [])\n",
        "y = weight * X + bias\n",
        "X[:10], y[:10], len(X), len(y)"
      ],
      "metadata": {
        "colab": {
          "base_uri": "https://localhost:8080/"
        },
        "id": "akcqyjitK6tq",
        "outputId": "ab561a17-0e50-4ebc-cddd-6b2c14726acd"
      },
      "execution_count": 3,
      "outputs": [
        {
          "output_type": "execute_result",
          "data": {
            "text/plain": [
              "(tensor([[0.0000],\n",
              "         [0.0200],\n",
              "         [0.0400],\n",
              "         [0.0600],\n",
              "         [0.0800],\n",
              "         [0.1000],\n",
              "         [0.1200],\n",
              "         [0.1400],\n",
              "         [0.1600],\n",
              "         [0.1800]]),\n",
              " tensor([[0.3000],\n",
              "         [0.3140],\n",
              "         [0.3280],\n",
              "         [0.3420],\n",
              "         [0.3560],\n",
              "         [0.3700],\n",
              "         [0.3840],\n",
              "         [0.3980],\n",
              "         [0.4120],\n",
              "         [0.4260]]),\n",
              " 50,\n",
              " 50)"
            ]
          },
          "metadata": {},
          "execution_count": 3
        }
      ]
    },
    {
      "cell_type": "markdown",
      "source": [
        "# Splitting data into training and\n",
        "\n",
        "* **Training set**: The model learns from this data (like the course materials you study during the semester).\n",
        "* **Validation set**: The model gets tuned on this data (like the practice exam you take before the final exam).\n",
        "* **Testing set**: The model gets evaluated on this data to test what it has learned (like the final exam you take at the end of the semester)."
      ],
      "metadata": {
        "id": "iVTWWwveN8b1"
      }
    },
    {
      "cell_type": "code",
      "source": [
        "# create a train/test split\n",
        "train_split = int(0.8*len(X))\n",
        "train_split"
      ],
      "metadata": {
        "colab": {
          "base_uri": "https://localhost:8080/"
        },
        "id": "XMR9yIyrVb2C",
        "outputId": "b6a6bace-6b26-4c0d-8ee4-cf6621d0db54"
      },
      "execution_count": 4,
      "outputs": [
        {
          "output_type": "execute_result",
          "data": {
            "text/plain": [
              "40"
            ]
          },
          "metadata": {},
          "execution_count": 4
        }
      ]
    },
    {
      "cell_type": "code",
      "source": [
        "X_train, y_train = X[:train_split], y[:train_split]\n",
        "X_test, y_test = X[train_split:], y[train_split:]\n",
        "\n",
        "len(X_train), len(y_train), len(X_test), len(y_test)"
      ],
      "metadata": {
        "colab": {
          "base_uri": "https://localhost:8080/"
        },
        "id": "lwFdVKYtVx-e",
        "outputId": "e7d8361b-75f9-4bc9-a9d1-dc2aec57f223"
      },
      "execution_count": 5,
      "outputs": [
        {
          "output_type": "execute_result",
          "data": {
            "text/plain": [
              "(40, 40, 10, 10)"
            ]
          },
          "metadata": {},
          "execution_count": 5
        }
      ]
    },
    {
      "cell_type": "markdown",
      "source": [
        "# Visualization"
      ],
      "metadata": {
        "id": "ArSO4JjYXjoj"
      }
    },
    {
      "cell_type": "code",
      "source": [
        "def plot_predictions(train_data = X_train,\n",
        "                     train_labels = y_train,\n",
        "                     test_data = X_test,\n",
        "                     test_labels = y_test,\n",
        "                     predictions = None):\n",
        "  \"\"\"\n",
        "  Plots training data, test data and compares predictions.\n",
        "  \"\"\"\n",
        "  plt.figure(figsize=(10,7))\n",
        "\n",
        "  # plot training data in blue\n",
        "  plt.scatter(train_data, train_labels, c=\"b\", s=4, label=\"training data\")\n",
        "\n",
        "  # plot test data in green\n",
        "  plt.scatter(test_data, test_labels, c=\"g\", s=4, label=\"test data\")\n",
        "  #Are there predictions?\n",
        "  if predictions is not None:\n",
        "    plt.scatter(test_data, predictions, c=\"r\", s=4, label=\"predictions\")\n",
        "  plt.legend(prop={\"size\": 14})"
      ],
      "metadata": {
        "id": "XwuVD_d9XlZS"
      },
      "execution_count": 6,
      "outputs": []
    },
    {
      "cell_type": "code",
      "source": [
        "plot_predictions()"
      ],
      "metadata": {
        "colab": {
          "base_uri": "https://localhost:8080/",
          "height": 460
        },
        "id": "iqId8gwue3HN",
        "outputId": "f32202ce-2c1c-4e34-8a8f-13b428ca98a1"
      },
      "execution_count": 7,
      "outputs": [
        {
          "output_type": "display_data",
          "data": {
            "text/plain": [
              "<Figure size 1000x700 with 1 Axes>"
            ],
            "image/png": "[encoded data removed]"
          },
          "metadata": {}
        }
      ]
    },
    {
      "cell_type": "markdown",
      "source": [
        "# Build a model\n",
        "our first PyTorch model\n",
        "\n",
        "what our model does?\n",
        "* Start with random values (weight & bias)\n",
        "* Look at training data and adjust the random values to better represent (or get closer to) the ideal values (the weight & bias values we used to create the data)\n",
        "\n",
        "**How does it do so?**\n",
        "Through **two** main algorithms :\n",
        "1. Gradient descent\n",
        "2. Backpropagation"
      ],
      "metadata": {
        "id": "WyV_q3t7fVZY"
      }
    },
    {
      "cell_type": "code",
      "source": [
        "from torch import nn\n",
        "# Create a linear regression model class\n",
        "class LinearRegressionModel(nn.Module): # <- almost everything in PyTorch inherits from nn.Module\n",
        "  def __init__(self):\n",
        "    super().__init__()\n",
        "    self.weights = nn.Parameter(torch.randn(1, # <- start with random weights (this will get adjusted as the model learns)\n",
        "                                            requires_grad=True, # <- can we update this value with gradient descent?\n",
        "                                            dtype=torch.float))\n",
        "    self.bias = nn.Parameter(torch.randn(1, # <- start with random bias (this will get adjusted as the model learns)\n",
        "                                         requires_grad=True, # <- can we update this value with gradient descent?\n",
        "                                         dtype=torch.float))\n",
        "\n",
        "    # forward method to define the computation in the model\n",
        "  def forward(self, x: torch.Tensor) -> torch.Tensor: # <- \"x\" is the input data (e.g. training/testing features)\n",
        "    return self.weights * x + self.bias # <- this is the linear regression formula (y = m*x + b)\n",
        "\n"
      ],
      "metadata": {
        "id": "iAnxaEyhfduB"
      },
      "execution_count": 8,
      "outputs": []
    },
    {
      "cell_type": "markdown",
      "source": [
        "# PyTorch model building essentials\n",
        "\n",
        "* torch. nn — contains all of the buildings for computational graphs(a neural network can be considered a computational graph)\n",
        "* torch. nn. Parameter — what parameters should our model try and\n",
        "learn, often a PyTorch layer from torch.nn will set these for us\n",
        "* torch.nn.Module — The base class for all neural network modules,\n",
        "if you subclass it, you should overwrite forward( )\n",
        "* torch.optim — this where the optimizers in PyTorch live, they will\n",
        "help with gradient descent\n",
        "* def forward() — All nn.Module subclasses require you to overwrite forward( ) , this method defines what happens in the forward\n",
        "computation"
      ],
      "metadata": {
        "id": "JaprfsHF4HiS"
      }
    },
    {
      "cell_type": "markdown",
      "source": [
        "### Checking the contents of our PyTorch model\n",
        "Now we've created a model, let's see what's inside...\n",
        "\n",
        "So we can check our model parameters or what's inside our model using . `parameters( )`"
      ],
      "metadata": {
        "id": "lZ4twCjr42pm"
      }
    },
    {
      "cell_type": "code",
      "source": [
        "# create a random seed\n",
        "\n",
        "torch.manual_seed(42)\n",
        "\n",
        "# Create a linear regression model\n",
        "model_0 = LinearRegressionModel()\n",
        "\n",
        "list(model_0.parameters())"
      ],
      "metadata": {
        "colab": {
          "base_uri": "https://localhost:8080/"
        },
        "id": "JNpZDNzu6QeI",
        "outputId": "b79ce5c3-9025-4449-8736-4f2f7e4a3c3b"
      },
      "execution_count": 9,
      "outputs": [
        {
          "output_type": "execute_result",
          "data": {
            "text/plain": [
              "[Parameter containing:\n",
              " tensor([0.3367], requires_grad=True),\n",
              " Parameter containing:\n",
              " tensor([0.1288], requires_grad=True)]"
            ]
          },
          "metadata": {},
          "execution_count": 9
        }
      ]
    },
    {
      "cell_type": "code",
      "source": [
        "# List the named parameters\n",
        "model_0.state_dict()"
      ],
      "metadata": {
        "colab": {
          "base_uri": "https://localhost:8080/"
        },
        "id": "-PuROGK-7Usy",
        "outputId": "a65291b5-1078-49ac-aaed-5ca2c832abef"
      },
      "execution_count": 10,
      "outputs": [
        {
          "output_type": "execute_result",
          "data": {
            "text/plain": [
              "OrderedDict([('weights', tensor([0.3367])), ('bias', tensor([0.1288]))])"
            ]
          },
          "metadata": {},
          "execution_count": 10
        }
      ]
    },
    {
      "cell_type": "code",
      "source": [
        "weight, bias"
      ],
      "metadata": {
        "colab": {
          "base_uri": "https://localhost:8080/"
        },
        "id": "Yrpj8WSY7lux",
        "outputId": "ce6ac16a-db61-4bcf-917d-5b3c9fd29b4d"
      },
      "execution_count": 11,
      "outputs": [
        {
          "output_type": "execute_result",
          "data": {
            "text/plain": [
              "(0.7, 0.3)"
            ]
          },
          "metadata": {},
          "execution_count": 11
        }
      ]
    },
    {
      "cell_type": "markdown",
      "source": [
        "# Making prediction using `torch.inference_mode()`\n",
        "To check our model's predictive power, let's see how well it predicts `y_test`  based on `x_test`\n",
        "\n",
        "When we pass data through our model, it's going to run it through the forward( ) method\n",
        "\n",
        "##  PyTorch-এর Default Mode vs. Inference Mode\n",
        "\n",
        "###  কেন PyTorch Default Mode-এ Gradient Calculate করে?\n",
        "\n",
        "PyTorch-এর **default mode** হলো **training mode**, যেখানে:\n",
        "- **Computational graph তৈরি হয়**, যাতে পরবর্তী সময়ে backpropagation চালানো যায়।\n",
        "- **Automatic differentiation চালু থাকে**, যাতে gradient update করা যায়।\n",
        "- **Prediction-এর সময়ও gradient track হয়**, কারণ PyTorch ধরে নেয় যে training হতে পারে।\n",
        "\n",
        "কিন্তু **inference (শুধুমাত্র prediction)**-এর সময় gradient দরকার হয় না। তাই এটা manually বন্ধ করতে হয়।\n",
        "\n",
        "---\n",
        "\n",
        "## 🎯 Inference-এর সময় Gradient Tracking বন্ধ করার উপায়\n",
        "\n",
        "### **1️⃣ `torch.no_grad()` ব্যবহার করলে কি হয়?**\n",
        "\n",
        "- এটি **gradient tracking বন্ধ করে**, তাই কম RAM ব্যবহার হয়।\n",
        "- কিন্তু কিছু **computational overhead** থেকে যায়।\n",
        "\n",
        "---\n",
        "\n",
        "### **2️⃣ `torch.inference_mode()` কেন বেশি optimized?**\n",
        "\n",
        "- **Computational graph একদম তৈরি হয় না** ✅\n",
        "- **Memory কম ব্যবহার হয়, execution দ্রুত হয়** ✅\n",
        "- **Production & Deployment-এর জন্য সেরা পদ্ধতি** ✅\n",
        "\n",
        "---\n",
        "\n",
        "## ⚡ Training Mode vs. Inference Mode\n",
        "\n",
        "| বৈশিষ্ট্য              | Training Mode | Inference Mode |\n",
        "|----------------------|--------------|---------------|\n",
        "| **Computational Graph** | তৈরি হয় ✅ | তৈরি হয় না ❌ |\n",
        "| **Gradient Calculation** | চালু থাকে ✅ | বন্ধ থাকে ❌ |\n",
        "| **Memory Usage** | বেশি ❌ | কম ✅ |\n",
        "| **Execution Speed** | ধীর ❌ | দ্রুত ✅ |\n",
        "| **Weight Update** | হয় ✅ | হয় না ❌ |\n",
        "\n",
        "---\n",
        "\n",
        "## 🔥 Inference Mode কেন দরকার?\n",
        "- **Pre-trained model-এর জন্য gradient দরকার নেই** ❌\n",
        "- **Memory কম লাগে, execution দ্রুত হয়** ✅\n",
        "- **Real-time AI applications-এর জন্য পারফেক্ট** ✅\n",
        "- **Production বা Deployment-এর জন্য সেরা পদ্ধতি** 🚀\n",
        "\n",
        "---\n",
        "\n",
        "## 🛠 কখন কোন Mode ব্যবহার করবেন?\n",
        "✅ **Training-এর জন্য Default Mode**\n",
        "✅ **কখনো সখনো inference করলে `torch.no_grad()`**\n",
        "✅ **সবচেয়ে ভালো পারফরম্যান্সের জন্য `torch.inference_mode()`** 🚀\n",
        "\n",
        "👉 **যদি শুধুমাত্র prediction লাগে, `torch.inference_mode()` ব্যবহার করাই সবচেয়ে ভালো!**\n",
        "\n"
      ],
      "metadata": {
        "id": "clBPCHrF_GVo"
      }
    },
    {
      "cell_type": "code",
      "source": [
        "X_test"
      ],
      "metadata": {
        "colab": {
          "base_uri": "https://localhost:8080/"
        },
        "id": "L1S23etx_3bp",
        "outputId": "5227e345-87d4-499b-8e0e-8700dfd8dab3"
      },
      "execution_count": 12,
      "outputs": [
        {
          "output_type": "execute_result",
          "data": {
            "text/plain": [
              "tensor([[0.8000],\n",
              "        [0.8200],\n",
              "        [0.8400],\n",
              "        [0.8600],\n",
              "        [0.8800],\n",
              "        [0.9000],\n",
              "        [0.9200],\n",
              "        [0.9400],\n",
              "        [0.9600],\n",
              "        [0.9800]])"
            ]
          },
          "metadata": {},
          "execution_count": 12
        }
      ]
    },
    {
      "cell_type": "code",
      "source": [
        "y_preds = model_0(X_test)\n",
        "y_preds"
      ],
      "metadata": {
        "colab": {
          "base_uri": "https://localhost:8080/"
        },
        "id": "NOoabMA_CS4m",
        "outputId": "70815a30-4cce-4e01-a1e7-4c1ba1d9d3af"
      },
      "execution_count": 13,
      "outputs": [
        {
          "output_type": "execute_result",
          "data": {
            "text/plain": [
              "tensor([[0.3982],\n",
              "        [0.4049],\n",
              "        [0.4116],\n",
              "        [0.4184],\n",
              "        [0.4251],\n",
              "        [0.4318],\n",
              "        [0.4386],\n",
              "        [0.4453],\n",
              "        [0.4520],\n",
              "        [0.4588]], grad_fn=<AddBackward0>)"
            ]
          },
          "metadata": {},
          "execution_count": 13
        }
      ]
    },
    {
      "cell_type": "code",
      "source": [
        "# make predictions with model\n",
        "with torch.inference_mode():\n",
        "  y_preds = model_0(X_test)\n",
        "\n",
        " # You can also do something similar with torch. no grad( )\n",
        "# with torch.no_grad():\n",
        "#   y_preds = model_0(X_test)\n",
        "\n",
        "y_preds"
      ],
      "metadata": {
        "colab": {
          "base_uri": "https://localhost:8080/"
        },
        "id": "6_xkm8qf_tu8",
        "outputId": "4a5b31ba-3b9e-4478-f411-e43d0b676605"
      },
      "execution_count": 14,
      "outputs": [
        {
          "output_type": "execute_result",
          "data": {
            "text/plain": [
              "tensor([[0.3982],\n",
              "        [0.4049],\n",
              "        [0.4116],\n",
              "        [0.4184],\n",
              "        [0.4251],\n",
              "        [0.4318],\n",
              "        [0.4386],\n",
              "        [0.4453],\n",
              "        [0.4520],\n",
              "        [0.4588]])"
            ]
          },
          "metadata": {},
          "execution_count": 14
        }
      ]
    },
    {
      "cell_type": "code",
      "source": [
        "y_test"
      ],
      "metadata": {
        "colab": {
          "base_uri": "https://localhost:8080/"
        },
        "id": "8DuytZXjA87K",
        "outputId": "b7960d82-fa1f-4d94-c2f1-840fc8f24b7b"
      },
      "execution_count": 15,
      "outputs": [
        {
          "output_type": "execute_result",
          "data": {
            "text/plain": [
              "tensor([[0.8600],\n",
              "        [0.8740],\n",
              "        [0.8880],\n",
              "        [0.9020],\n",
              "        [0.9160],\n",
              "        [0.9300],\n",
              "        [0.9440],\n",
              "        [0.9580],\n",
              "        [0.9720],\n",
              "        [0.9860]])"
            ]
          },
          "metadata": {},
          "execution_count": 15
        }
      ]
    },
    {
      "cell_type": "code",
      "source": [
        "plot_predictions(predictions=y_preds)"
      ],
      "metadata": {
        "colab": {
          "base_uri": "https://localhost:8080/",
          "height": 460
        },
        "id": "D01PTnh-A_8N",
        "outputId": "0290d87a-fa27-446f-94c0-5a55329c396e"
      },
      "execution_count": 16,
      "outputs": [
        {
          "output_type": "display_data",
          "data": {
            "text/plain": [
              "<Figure size 1000x700 with 1 Axes>"
            ],
            "image/png": "[encoded data removed]"
          },
          "metadata": {}
        }
      ]
    },
    {
      "cell_type": "markdown",
      "source": [
        "# Train Model\n",
        "The whole idea of training is for a model to move some `unknown` parameters (these may be random) to known parameters\n",
        "\n",
        "Or in other words from a poor representation of the data to a better representation of the data\n",
        "\n",
        "\n"
      ],
      "metadata": {
        "id": "quLmNQVXBIZ5"
      }
    },
    {
      "cell_type": "markdown",
      "source": [
        "One way to measure how poor or how wrong your models predictions are is to use loss function\n",
        "\n",
        "* Note: Loss function may also be called cost function or criterion in different areas. For our case, we' re going to refer to it as a loss function.\n",
        "\n",
        "\n",
        "Things we need to train:\n",
        "\n",
        "* **Loss function:** A function to measure how wrong your model 's predictions are to the ideal outputs, lower is better.\n",
        "\n",
        "* **Optimizer:** Takes into account the loss of a model and adjusts the model 's\n",
        "parameters (e.g. weight & bias)"
      ],
      "metadata": {
        "id": "E7Ex8CEmGI6f"
      }
    },
    {
      "cell_type": "code",
      "source": [
        "list(model_0.parameters())"
      ],
      "metadata": {
        "colab": {
          "base_uri": "https://localhost:8080/"
        },
        "id": "caTfsldfGwlb",
        "outputId": "eeccb3f0-9159-476c-b7e1-cdabdec23780"
      },
      "execution_count": 17,
      "outputs": [
        {
          "output_type": "execute_result",
          "data": {
            "text/plain": [
              "[Parameter containing:\n",
              " tensor([0.3367], requires_grad=True),\n",
              " Parameter containing:\n",
              " tensor([0.1288], requires_grad=True)]"
            ]
          },
          "metadata": {},
          "execution_count": 17
        }
      ]
    },
    {
      "cell_type": "code",
      "source": [
        "# Check out our model's parameters (a parameter is a value that the model sets itself)\n",
        "model_0.state_dict( )"
      ],
      "metadata": {
        "colab": {
          "base_uri": "https://localhost:8080/"
        },
        "id": "wlsZTMtJHKu-",
        "outputId": "3dbedef5-d38d-4e8a-9747-896f24c0a1b3"
      },
      "execution_count": 18,
      "outputs": [
        {
          "output_type": "execute_result",
          "data": {
            "text/plain": [
              "OrderedDict([('weights', tensor([0.3367])), ('bias', tensor([0.1288]))])"
            ]
          },
          "metadata": {},
          "execution_count": 18
        }
      ]
    },
    {
      "cell_type": "markdown",
      "source": [
        "PyTorch-এর L1 Loss (Mean Absolute Error)\n",
        "\n",
        "🚀 L1 Loss কী?\n",
        "\n",
        "L1 Loss, যাকে Mean Absolute Error (MAE)-ও বলা হয়, এটি PyTorch-এ একটি loss function, যা predictions এবং actual values-এর absolute পার্থক্যের গড় নেয়।\n",
        "\n",
        "🎯 L1 Loss কিভাবে কাজ করে?\n",
        "\n",
        "এটি predicted value এবং actual value-এর মধ্যে পার্থক্যের গড় বের করে।\n",
        "\n",
        "Absolute difference নেয়, যাতে negative values-এর কোনো প্রভাব না থাকে।\n",
        "\n",
        "Smooth ও Stable optimization দেয়, কারণ এটি outliers-কে বেশি গুরুত্ব দেয় না।\n",
        "\n",
        "L1 Loss-এর সূত্র:\n",
        "\n",
        "\n",
        "\n",
        "যেখানে:\n",
        "\n",
        " = Actual (ground truth) values\n",
        "\n",
        " = Model-এর predicted values\n",
        "\n",
        " = Total number of samples\n",
        "\n"
      ],
      "metadata": {
        "id": "QlTQGYMPXHz4"
      }
    },
    {
      "cell_type": "code",
      "source": [
        "# Setup a loss function\n",
        "loss_fn = nn.L1Loss()\n",
        "\n",
        "\n",
        "# Setup an optimizer (Stochastic Gradient Descent)\n",
        "optimizer = torch.optim.SGD(params=model_0.parameters(),\n",
        "                            lr=0.01)"
      ],
      "metadata": {
        "id": "LE2runbJWxUP"
      },
      "execution_count": 19,
      "outputs": []
    },
    {
      "cell_type": "markdown",
      "source": [
        "Q: Which loss function and optimizer should I use?\n",
        "\n",
        "A: This will be problem specific. But with experience, you'll get an idea of what works and what doesnt with your particular\n",
        "problem set.\n",
        "For example. for a regression problem (like ours). a loss function of nn.L1Loss() and an optimizer (like ours) will suffice.\n",
        "But for a classification problem like classifying whether a photo is of a dog or a cat, you'll likely want to use a loss function of nn. BCELoss( ) (binary cross entropy loss)."
      ],
      "metadata": {
        "id": "dACm9tHyY4l1"
      }
    },
    {
      "cell_type": "markdown",
      "source": [
        "# Building a training loop (and a testing loop) in Torch\n",
        "\n",
        "A couple of things we need in a training loop:\n",
        "\n",
        "0. Loop through the data\n",
        "1. forward pass (This involves data moving through our model's `forward()`functions) to make predictions on data\n",
        "2. Calculate the loss (compare forward pass predictions to ground truth labels)\n",
        "3. Optimizer zero grad\n",
        "4. Loss backward (**Back Propagation**) - move backwards through the network to calculate the gradients of each of the parameters of our model with respect to the loss\n",
        "5. Optimizer step(**Gradient Descent**) - use the optimizer to adjust our model's parameters to try and improve the loss"
      ],
      "metadata": {
        "id": "eE9ka-gQY61R"
      }
    },
    {
      "cell_type": "code",
      "source": [
        "list(model_0.parameters())"
      ],
      "metadata": {
        "colab": {
          "base_uri": "https://localhost:8080/"
        },
        "id": "aVZosDJ9bnIj",
        "outputId": "68436969-b8a4-4878-f0f0-79d216636335"
      },
      "execution_count": 20,
      "outputs": [
        {
          "output_type": "execute_result",
          "data": {
            "text/plain": [
              "[Parameter containing:\n",
              " tensor([0.3367], requires_grad=True),\n",
              " Parameter containing:\n",
              " tensor([0.1288], requires_grad=True)]"
            ]
          },
          "metadata": {},
          "execution_count": 20
        }
      ]
    },
    {
      "cell_type": "code",
      "source": [
        "\n",
        "# An epoch is one loop through the data...this is a hyperparameter because we set it ourselves\n",
        "epochs = 200\n",
        "\n",
        "#Track different values\n",
        "epoch_count=[]\n",
        "loss_values=[]\n",
        "test_loss_values=[]\n",
        "\n",
        "\n",
        "# 0. Loop through the data\n",
        "for epoch in range(epochs):\n",
        "  # Set the model to training mode\n",
        "  model_0.train() # train mode in PyTorch sets all parameters that require gradients to 'requires_grad=True'\n",
        "\n",
        "  # 1. Forward pass\n",
        "  y_pred = model_0(X_train)\n",
        "\n",
        "  # 2. Calculate the loss\n",
        "  loss = loss_fn(y_pred, y_train)\n",
        "  print(f\"Loss: {loss}\")\n",
        "\n",
        "  # 3. optimizer zero grad\n",
        "#   PyTorch-এ backward() কল করার সময়, আগের gradient গুলো সংগ্রহ হয়, মুছে যায় না।\n",
        "# 🔹 এজন্য প্রতিটি iteration-এর শুরুতে optimizer.zero_grad() ব্যবহার করে আগের gradients মুছে ফেলা হয়।\n",
        "# 🔹 নাহলে আগের gradients নতুন gradients-এর সাথে যুক্ত হয়ে যাবে, যা ভুল optimization করবে।\n",
        "\n",
        "  optimizer.zero_grad()\n",
        "\n",
        "\n",
        "  # 4. Loss backward (Perform back propagation on the loss with respect to the parameters of the model)\n",
        "  loss.backward()\n",
        "\n",
        "  # 5. Optimizer step  (Perform gradient descent)\n",
        "  optimizer.step()\n",
        "\n",
        "  # 6. Testing\n",
        "  model_0.eval() # Turns off gradient tracking\n",
        "  with torch.inference_mode(): # turns off gradient tracking (no learning needed while testing)\n",
        "\n",
        "  # 1. Do the forward pass\n",
        "    test_pred = model_0(X_test)\n",
        "\n",
        "   # 2. Calculate the loss\n",
        "    test_loss = loss_fn(test_pred, y_test)\n",
        "\n",
        "  # Print out what's happening\n",
        "  if epoch % 10 == 0:\n",
        "    epoch_count.append(epoch)\n",
        "    loss_values.append(loss)\n",
        "    test_loss_values.append(test_loss)\n",
        "  print(f\"Epoch: {epoch} | Test: {loss} | Test loss: {test_loss}\")\n",
        "\n",
        "\n",
        "\n",
        "print(model_0.state_dict())"
      ],
      "metadata": {
        "colab": {
          "base_uri": "https://localhost:8080/"
        },
        "id": "tx92kov0bLz5",
        "outputId": "116fedb1-a62c-4130-c4c2-fe8d6af3bcfe"
      },
      "execution_count": 21,
      "outputs": [
        {
          "output_type": "stream",
          "name": "stdout",
          "text": [
            "Loss: 0.31288138031959534\n",
            "Epoch: 0 | Test: 0.31288138031959534 | Test loss: 0.48106518387794495\n",
            "Loss: 0.3013603389263153\n",
            "Epoch: 1 | Test: 0.3013603389263153 | Test loss: 0.4675942063331604\n",
            "Loss: 0.28983935713768005\n",
            "Epoch: 2 | Test: 0.28983935713768005 | Test loss: 0.4541231691837311\n",
            "Loss: 0.2783183455467224\n",
            "Epoch: 3 | Test: 0.2783183455467224 | Test loss: 0.44065219163894653\n",
            "Loss: 0.26679736375808716\n",
            "Epoch: 4 | Test: 0.26679736375808716 | Test loss: 0.4271811842918396\n",
            "Loss: 0.2552763521671295\n",
            "Epoch: 5 | Test: 0.2552763521671295 | Test loss: 0.41371020674705505\n",
            "Loss: 0.24375534057617188\n",
            "Epoch: 6 | Test: 0.24375534057617188 | Test loss: 0.40023916959762573\n",
            "Loss: 0.23223432898521423\n",
            "Epoch: 7 | Test: 0.23223432898521423 | Test loss: 0.3867681920528412\n",
            "Loss: 0.22071333229541779\n",
            "Epoch: 8 | Test: 0.22071333229541779 | Test loss: 0.37329721450805664\n",
            "Loss: 0.20919232070446014\n",
            "Epoch: 9 | Test: 0.20919232070446014 | Test loss: 0.3598262071609497\n",
            "Loss: 0.1976713240146637\n",
            "Epoch: 10 | Test: 0.1976713240146637 | Test loss: 0.3463551998138428\n",
            "Loss: 0.18615034222602844\n",
            "Epoch: 11 | Test: 0.18615034222602844 | Test loss: 0.3328842222690582\n",
            "Loss: 0.1746293306350708\n",
            "Epoch: 12 | Test: 0.1746293306350708 | Test loss: 0.3194132149219513\n",
            "Loss: 0.16310831904411316\n",
            "Epoch: 13 | Test: 0.16310831904411316 | Test loss: 0.30594223737716675\n",
            "Loss: 0.1515873372554779\n",
            "Epoch: 14 | Test: 0.1515873372554779 | Test loss: 0.2924712300300598\n",
            "Loss: 0.14006635546684265\n",
            "Epoch: 15 | Test: 0.14006635546684265 | Test loss: 0.27900025248527527\n",
            "Loss: 0.1285453587770462\n",
            "Epoch: 16 | Test: 0.1285453587770462 | Test loss: 0.2655292749404907\n",
            "Loss: 0.11702437698841095\n",
            "Epoch: 17 | Test: 0.11702437698841095 | Test loss: 0.2520582973957062\n",
            "Loss: 0.1060912236571312\n",
            "Epoch: 18 | Test: 0.1060912236571312 | Test loss: 0.2395961582660675\n",
            "Loss: 0.09681284427642822\n",
            "Epoch: 19 | Test: 0.09681284427642822 | Test loss: 0.22817862033843994\n",
            "Loss: 0.08908725529909134\n",
            "Epoch: 20 | Test: 0.08908725529909134 | Test loss: 0.21729660034179688\n",
            "Loss: 0.08227583020925522\n",
            "Epoch: 21 | Test: 0.08227583020925522 | Test loss: 0.2069590985774994\n",
            "Loss: 0.07638873159885406\n",
            "Epoch: 22 | Test: 0.07638873159885406 | Test loss: 0.19773726165294647\n",
            "Loss: 0.07160007208585739\n",
            "Epoch: 23 | Test: 0.07160007208585739 | Test loss: 0.1890866756439209\n",
            "Loss: 0.06747635453939438\n",
            "Epoch: 24 | Test: 0.06747635453939438 | Test loss: 0.18101617693901062\n",
            "Loss: 0.06395438313484192\n",
            "Epoch: 25 | Test: 0.06395438313484192 | Test loss: 0.17353470623493195\n",
            "Loss: 0.06097004935145378\n",
            "Epoch: 26 | Test: 0.06097004935145378 | Test loss: 0.16665108501911163\n",
            "Loss: 0.05845819041132927\n",
            "Epoch: 27 | Test: 0.05845819041132927 | Test loss: 0.16037428379058838\n",
            "Loss: 0.05635259300470352\n",
            "Epoch: 28 | Test: 0.05635259300470352 | Test loss: 0.15471318364143372\n",
            "Loss: 0.0545857772231102\n",
            "Epoch: 29 | Test: 0.0545857772231102 | Test loss: 0.14967669546604156\n",
            "Loss: 0.053148526698350906\n",
            "Epoch: 30 | Test: 0.053148526698350906 | Test loss: 0.14464017748832703\n",
            "Loss: 0.05181945487856865\n",
            "Epoch: 31 | Test: 0.05181945487856865 | Test loss: 0.14023718237876892\n",
            "Loss: 0.05069301277399063\n",
            "Epoch: 32 | Test: 0.05069301277399063 | Test loss: 0.13647659122943878\n",
            "Loss: 0.0498228520154953\n",
            "Epoch: 33 | Test: 0.0498228520154953 | Test loss: 0.13271598517894745\n",
            "Loss: 0.04895269125699997\n",
            "Epoch: 34 | Test: 0.04895269125699997 | Test loss: 0.12895536422729492\n",
            "Loss: 0.04819351062178612\n",
            "Epoch: 35 | Test: 0.04819351062178612 | Test loss: 0.12584610283374786\n",
            "Loss: 0.047531817108392715\n",
            "Epoch: 36 | Test: 0.047531817108392715 | Test loss: 0.12273679673671722\n",
            "Loss: 0.04692792519927025\n",
            "Epoch: 37 | Test: 0.04692792519927025 | Test loss: 0.1202877014875412\n",
            "Loss: 0.04642331600189209\n",
            "Epoch: 38 | Test: 0.04642331600189209 | Test loss: 0.11783860623836517\n",
            "Loss: 0.04591871052980423\n",
            "Epoch: 39 | Test: 0.04591871052980423 | Test loss: 0.11538954079151154\n",
            "Loss: 0.04543796554207802\n",
            "Epoch: 40 | Test: 0.04543796554207802 | Test loss: 0.11360953003168106\n",
            "Loss: 0.04503796249628067\n",
            "Epoch: 41 | Test: 0.04503796249628067 | Test loss: 0.11182951927185059\n",
            "Loss: 0.04463795945048332\n",
            "Epoch: 42 | Test: 0.04463795945048332 | Test loss: 0.1100495308637619\n",
            "Loss: 0.04423796385526657\n",
            "Epoch: 43 | Test: 0.04423796385526657 | Test loss: 0.10826952755451202\n",
            "Loss: 0.04383796453475952\n",
            "Epoch: 44 | Test: 0.04383796453475952 | Test loss: 0.10648951679468155\n",
            "Loss: 0.04343796148896217\n",
            "Epoch: 45 | Test: 0.04343796148896217 | Test loss: 0.10470950603485107\n",
            "Loss: 0.043074630200862885\n",
            "Epoch: 46 | Test: 0.043074630200862885 | Test loss: 0.10360751301050186\n",
            "Loss: 0.04272563382983208\n",
            "Epoch: 47 | Test: 0.04272563382983208 | Test loss: 0.10250549018383026\n",
            "Loss: 0.04237663000822067\n",
            "Epoch: 48 | Test: 0.04237663000822067 | Test loss: 0.10140349715948105\n",
            "Loss: 0.04202762991189957\n",
            "Epoch: 49 | Test: 0.04202762991189957 | Test loss: 0.10030148178339005\n",
            "Loss: 0.04167863354086876\n",
            "Epoch: 50 | Test: 0.04167863354086876 | Test loss: 0.09919948130846024\n",
            "Loss: 0.04132963344454765\n",
            "Epoch: 51 | Test: 0.04132963344454765 | Test loss: 0.09809747338294983\n",
            "Loss: 0.04098063334822655\n",
            "Epoch: 52 | Test: 0.04098063334822655 | Test loss: 0.09699545800685883\n",
            "Loss: 0.04063162952661514\n",
            "Epoch: 53 | Test: 0.04063162952661514 | Test loss: 0.09589345753192902\n",
            "Loss: 0.040282636880874634\n",
            "Epoch: 54 | Test: 0.040282636880874634 | Test loss: 0.0947914719581604\n",
            "Loss: 0.039933640509843826\n",
            "Epoch: 55 | Test: 0.039933640509843826 | Test loss: 0.09368947893381119\n",
            "Loss: 0.03958464413881302\n",
            "Epoch: 56 | Test: 0.03958464413881302 | Test loss: 0.09258746355772018\n",
            "Loss: 0.03923564404249191\n",
            "Epoch: 57 | Test: 0.03923564404249191 | Test loss: 0.09148545563220978\n",
            "Loss: 0.03888664394617081\n",
            "Epoch: 58 | Test: 0.03888664394617081 | Test loss: 0.09038344770669937\n",
            "Loss: 0.0385376438498497\n",
            "Epoch: 59 | Test: 0.0385376438498497 | Test loss: 0.08928143978118896\n",
            "Loss: 0.03818932920694351\n",
            "Epoch: 60 | Test: 0.03818932920694351 | Test loss: 0.08886633068323135\n",
            "Loss: 0.03785243630409241\n",
            "Epoch: 61 | Test: 0.03785243630409241 | Test loss: 0.08776430785655975\n",
            "Loss: 0.0375034399330616\n",
            "Epoch: 62 | Test: 0.0375034399330616 | Test loss: 0.08666229248046875\n",
            "Loss: 0.037164121866226196\n",
            "Epoch: 63 | Test: 0.037164121866226196 | Test loss: 0.08624717593193054\n",
            "Loss: 0.03681822493672371\n",
            "Epoch: 64 | Test: 0.03681822493672371 | Test loss: 0.08514519035816193\n",
            "Loss: 0.03647511452436447\n",
            "Epoch: 65 | Test: 0.03647511452436447 | Test loss: 0.08473004400730133\n",
            "Loss: 0.03613303601741791\n",
            "Epoch: 66 | Test: 0.03613303601741791 | Test loss: 0.08362803608179092\n",
            "Loss: 0.03578609973192215\n",
            "Epoch: 67 | Test: 0.03578609973192215 | Test loss: 0.08321291208267212\n",
            "Loss: 0.03544783592224121\n",
            "Epoch: 68 | Test: 0.03544783592224121 | Test loss: 0.08211090415716171\n",
            "Loss: 0.035098835825920105\n",
            "Epoch: 69 | Test: 0.035098835825920105 | Test loss: 0.0810088962316513\n",
            "Loss: 0.03476089984178543\n",
            "Epoch: 70 | Test: 0.03476089984178543 | Test loss: 0.0805937647819519\n",
            "Loss: 0.03441363573074341\n",
            "Epoch: 71 | Test: 0.03441363573074341 | Test loss: 0.0794917643070221\n",
            "Loss: 0.03407188132405281\n",
            "Epoch: 72 | Test: 0.03407188132405281 | Test loss: 0.07907666265964508\n",
            "Loss: 0.03372843936085701\n",
            "Epoch: 73 | Test: 0.03372843936085701 | Test loss: 0.07797462493181229\n",
            "Loss: 0.03338287025690079\n",
            "Epoch: 74 | Test: 0.03338287025690079 | Test loss: 0.07755951583385468\n",
            "Loss: 0.033043231815099716\n",
            "Epoch: 75 | Test: 0.033043231815099716 | Test loss: 0.07645749300718307\n",
            "Loss: 0.03269423171877861\n",
            "Epoch: 76 | Test: 0.03269423171877861 | Test loss: 0.07535548508167267\n",
            "Loss: 0.032357655465602875\n",
            "Epoch: 77 | Test: 0.032357655465602875 | Test loss: 0.07494036853313446\n",
            "Loss: 0.03200903534889221\n",
            "Epoch: 78 | Test: 0.03200903534889221 | Test loss: 0.07383836805820465\n",
            "Loss: 0.03166864812374115\n",
            "Epoch: 79 | Test: 0.03166864812374115 | Test loss: 0.07342323660850525\n",
            "Loss: 0.03132382780313492\n",
            "Epoch: 80 | Test: 0.03132382780313492 | Test loss: 0.07232122868299484\n",
            "Loss: 0.030979642644524574\n",
            "Epoch: 81 | Test: 0.030979642644524574 | Test loss: 0.07190609723329544\n",
            "Loss: 0.030638623982667923\n",
            "Epoch: 82 | Test: 0.030638623982667923 | Test loss: 0.07080408930778503\n",
            "Loss: 0.0302906334400177\n",
            "Epoch: 83 | Test: 0.0302906334400177 | Test loss: 0.07038896530866623\n",
            "Loss: 0.029953425750136375\n",
            "Epoch: 84 | Test: 0.029953425750136375 | Test loss: 0.06928696483373642\n",
            "Loss: 0.02960442565381527\n",
            "Epoch: 85 | Test: 0.02960442565381527 | Test loss: 0.06818496435880661\n",
            "Loss: 0.029265418648719788\n",
            "Epoch: 86 | Test: 0.029265418648719788 | Test loss: 0.0677698403596878\n",
            "Loss: 0.028919223695993423\n",
            "Epoch: 87 | Test: 0.028919223695993423 | Test loss: 0.0666678324341774\n",
            "Loss: 0.028576409444212914\n",
            "Epoch: 88 | Test: 0.028576409444212914 | Test loss: 0.066252700984478\n",
            "Loss: 0.028234025463461876\n",
            "Epoch: 89 | Test: 0.028234025463461876 | Test loss: 0.06515069305896759\n",
            "Loss: 0.02788739837706089\n",
            "Epoch: 90 | Test: 0.02788739837706089 | Test loss: 0.06473556160926819\n",
            "Loss: 0.02754882536828518\n",
            "Epoch: 91 | Test: 0.02754882536828518 | Test loss: 0.06363357603549957\n",
            "Loss: 0.027199819684028625\n",
            "Epoch: 92 | Test: 0.027199819684028625 | Test loss: 0.06253156810998917\n",
            "Loss: 0.026862185448408127\n",
            "Epoch: 93 | Test: 0.026862185448408127 | Test loss: 0.062116436660289764\n",
            "Loss: 0.02651461586356163\n",
            "Epoch: 94 | Test: 0.02651461586356163 | Test loss: 0.061014432460069656\n",
            "Loss: 0.026173178106546402\n",
            "Epoch: 95 | Test: 0.026173178106546402 | Test loss: 0.06059930846095085\n",
            "Loss: 0.025829419493675232\n",
            "Epoch: 96 | Test: 0.025829419493675232 | Test loss: 0.05949730426073074\n",
            "Loss: 0.02548416517674923\n",
            "Epoch: 97 | Test: 0.02548416517674923 | Test loss: 0.05908216908574104\n",
            "Loss: 0.025144213810563087\n",
            "Epoch: 98 | Test: 0.025144213810563087 | Test loss: 0.057980168610811234\n",
            "Loss: 0.02479521557688713\n",
            "Epoch: 99 | Test: 0.02479521557688713 | Test loss: 0.05687814950942993\n",
            "Loss: 0.024458957836031914\n",
            "Epoch: 100 | Test: 0.024458957836031914 | Test loss: 0.05646304413676262\n",
            "Loss: 0.024110013619065285\n",
            "Epoch: 101 | Test: 0.024110013619065285 | Test loss: 0.05536102131009102\n",
            "Loss: 0.02376994863152504\n",
            "Epoch: 102 | Test: 0.02376994863152504 | Test loss: 0.05494590476155281\n",
            "Loss: 0.02342480979859829\n",
            "Epoch: 103 | Test: 0.02342480979859829 | Test loss: 0.05384388566017151\n",
            "Loss: 0.023080935701727867\n",
            "Epoch: 104 | Test: 0.023080935701727867 | Test loss: 0.0534287691116333\n",
            "Loss: 0.022739607840776443\n",
            "Epoch: 105 | Test: 0.022739607840776443 | Test loss: 0.052326757460832596\n",
            "Loss: 0.022391926497220993\n",
            "Epoch: 106 | Test: 0.022391926497220993 | Test loss: 0.05191164091229439\n",
            "Loss: 0.022054409608244896\n",
            "Epoch: 107 | Test: 0.022054409608244896 | Test loss: 0.05080962926149368\n",
            "Loss: 0.02170540764927864\n",
            "Epoch: 108 | Test: 0.02170540764927864 | Test loss: 0.049707621335983276\n",
            "Loss: 0.021366719156503677\n",
            "Epoch: 109 | Test: 0.021366719156503677 | Test loss: 0.04929249361157417\n",
            "Loss: 0.021020207554101944\n",
            "Epoch: 110 | Test: 0.021020207554101944 | Test loss: 0.04819049686193466\n",
            "Loss: 0.020677709951996803\n",
            "Epoch: 111 | Test: 0.020677709951996803 | Test loss: 0.04777535796165466\n",
            "Loss: 0.02033500373363495\n",
            "Epoch: 112 | Test: 0.02033500373363495 | Test loss: 0.046673357486724854\n",
            "Loss: 0.01998869702219963\n",
            "Epoch: 113 | Test: 0.01998869702219963 | Test loss: 0.04625822976231575\n",
            "Loss: 0.019649803638458252\n",
            "Epoch: 114 | Test: 0.019649803638458252 | Test loss: 0.045156221836805344\n",
            "Loss: 0.019300809130072594\n",
            "Epoch: 115 | Test: 0.019300809130072594 | Test loss: 0.04405422881245613\n",
            "Loss: 0.018963487818837166\n",
            "Epoch: 116 | Test: 0.018963487818837166 | Test loss: 0.04363910108804703\n",
            "Loss: 0.01861560344696045\n",
            "Epoch: 117 | Test: 0.01861560344696045 | Test loss: 0.04253707453608513\n",
            "Loss: 0.018274478614330292\n",
            "Epoch: 118 | Test: 0.018274478614330292 | Test loss: 0.042121969163417816\n",
            "Loss: 0.017930403351783752\n",
            "Epoch: 119 | Test: 0.017930403351783752 | Test loss: 0.04101995751261711\n",
            "Loss: 0.01758546568453312\n",
            "Epoch: 120 | Test: 0.01758546568453312 | Test loss: 0.04060482233762741\n",
            "Loss: 0.017245199531316757\n",
            "Epoch: 121 | Test: 0.017245199531316757 | Test loss: 0.0395028181374073\n",
            "Loss: 0.016896454617381096\n",
            "Epoch: 122 | Test: 0.016896454617381096 | Test loss: 0.0390876941382885\n",
            "Loss: 0.01656000316143036\n",
            "Epoch: 123 | Test: 0.01656000316143036 | Test loss: 0.037985701113939285\n",
            "Loss: 0.016210997477173805\n",
            "Epoch: 124 | Test: 0.016210997477173805 | Test loss: 0.03688368946313858\n",
            "Loss: 0.01587124727666378\n",
            "Epoch: 125 | Test: 0.01587124727666378 | Test loss: 0.036468543112277985\n",
            "Loss: 0.015525798313319683\n",
            "Epoch: 126 | Test: 0.015525798313319683 | Test loss: 0.035366542637348175\n",
            "Loss: 0.015182236209511757\n",
            "Epoch: 127 | Test: 0.015182236209511757 | Test loss: 0.034951429814100266\n",
            "Loss: 0.014840595424175262\n",
            "Epoch: 128 | Test: 0.014840595424175262 | Test loss: 0.03384942561388016\n",
            "Loss: 0.01449323259294033\n",
            "Epoch: 129 | Test: 0.01449323259294033 | Test loss: 0.03343429043889046\n",
            "Loss: 0.014155393466353416\n",
            "Epoch: 130 | Test: 0.014155393466353416 | Test loss: 0.03233227878808975\n",
            "Loss: 0.013806397095322609\n",
            "Epoch: 131 | Test: 0.013806397095322609 | Test loss: 0.031230276450514793\n",
            "Loss: 0.013468016870319843\n",
            "Epoch: 132 | Test: 0.013468016870319843 | Test loss: 0.030815154314041138\n",
            "Loss: 0.013121193274855614\n",
            "Epoch: 133 | Test: 0.013121193274855614 | Test loss: 0.02971314825117588\n",
            "Loss: 0.01277900766581297\n",
            "Epoch: 134 | Test: 0.01277900766581297 | Test loss: 0.02929801307618618\n",
            "Loss: 0.012435992248356342\n",
            "Epoch: 135 | Test: 0.012435992248356342 | Test loss: 0.028196018189191818\n",
            "Loss: 0.01208999752998352\n",
            "Epoch: 136 | Test: 0.01208999752998352 | Test loss: 0.027780896052718163\n",
            "Loss: 0.011750795878469944\n",
            "Epoch: 137 | Test: 0.011750795878469944 | Test loss: 0.026678884401917458\n",
            "Loss: 0.011401787400245667\n",
            "Epoch: 138 | Test: 0.011401787400245667 | Test loss: 0.025576870888471603\n",
            "Loss: 0.011064787395298481\n",
            "Epoch: 139 | Test: 0.011064787395298481 | Test loss: 0.025161748751997948\n",
            "Loss: 0.010716589167714119\n",
            "Epoch: 140 | Test: 0.010716589167714119 | Test loss: 0.024059748277068138\n",
            "Loss: 0.010375778190791607\n",
            "Epoch: 141 | Test: 0.010375778190791607 | Test loss: 0.023644620552659035\n",
            "Loss: 0.010031387209892273\n",
            "Epoch: 142 | Test: 0.010031387209892273 | Test loss: 0.022542614489793777\n",
            "Loss: 0.009686763398349285\n",
            "Epoch: 143 | Test: 0.009686763398349285 | Test loss: 0.022127490490674973\n",
            "Loss: 0.009346187114715576\n",
            "Epoch: 144 | Test: 0.009346187114715576 | Test loss: 0.021025484427809715\n",
            "Loss: 0.008997755125164986\n",
            "Epoch: 145 | Test: 0.008997755125164986 | Test loss: 0.020610356703400612\n",
            "Loss: 0.008660981431603432\n",
            "Epoch: 146 | Test: 0.008660981431603432 | Test loss: 0.019508343189954758\n",
            "Loss: 0.008311985060572624\n",
            "Epoch: 147 | Test: 0.008311985060572624 | Test loss: 0.018406350165605545\n",
            "Loss: 0.007972544990479946\n",
            "Epoch: 148 | Test: 0.007972544990479946 | Test loss: 0.017991220578551292\n",
            "Loss: 0.007626785431057215\n",
            "Epoch: 149 | Test: 0.007626785431057215 | Test loss: 0.016889220103621483\n",
            "Loss: 0.0072835334576666355\n",
            "Epoch: 150 | Test: 0.0072835334576666355 | Test loss: 0.016474086791276932\n",
            "Loss: 0.006941580679267645\n",
            "Epoch: 151 | Test: 0.006941580679267645 | Test loss: 0.0153720797970891\n",
            "Loss: 0.006594526115804911\n",
            "Epoch: 152 | Test: 0.006594526115804911 | Test loss: 0.01495695672929287\n",
            "Loss: 0.006256377790123224\n",
            "Epoch: 153 | Test: 0.006256377790123224 | Test loss: 0.013854950666427612\n",
            "Loss: 0.005907376762479544\n",
            "Epoch: 154 | Test: 0.005907376762479544 | Test loss: 0.012752944603562355\n",
            "Loss: 0.005569315515458584\n",
            "Epoch: 155 | Test: 0.005569315515458584 | Test loss: 0.012337815947830677\n",
            "Loss: 0.005222178064286709\n",
            "Epoch: 156 | Test: 0.005222178064286709 | Test loss: 0.011235815472900867\n",
            "Loss: 0.004880306776612997\n",
            "Epoch: 157 | Test: 0.004880306776612997 | Test loss: 0.010820692405104637\n",
            "Loss: 0.004536976106464863\n",
            "Epoch: 158 | Test: 0.004536976106464863 | Test loss: 0.009718680754303932\n",
            "Loss: 0.00419129803776741\n",
            "Epoch: 159 | Test: 0.00419129803776741 | Test loss: 0.009303552098572254\n",
            "Loss: 0.0038517764769494534\n",
            "Epoch: 160 | Test: 0.0038517764769494534 | Test loss: 0.008201557211577892\n",
            "Loss: 0.0035027749836444855\n",
            "Epoch: 161 | Test: 0.0035027749836444855 | Test loss: 0.007099539041519165\n",
            "Loss: 0.0031660839449614286\n",
            "Epoch: 162 | Test: 0.0031660839449614286 | Test loss: 0.006684416439384222\n",
            "Loss: 0.002817571861669421\n",
            "Epoch: 163 | Test: 0.002817571861669421 | Test loss: 0.0055824099108576775\n",
            "Loss: 0.0024770735763013363\n",
            "Epoch: 164 | Test: 0.0024770735763013363 | Test loss: 0.005167287774384022\n",
            "Loss: 0.0021323717664927244\n",
            "Epoch: 165 | Test: 0.0021323717664927244 | Test loss: 0.004065275192260742\n",
            "Loss: 0.0017880648374557495\n",
            "Epoch: 166 | Test: 0.0017880648374557495 | Test loss: 0.003650152590125799\n",
            "Loss: 0.0014518328243866563\n",
            "Epoch: 167 | Test: 0.0014518328243866563 | Test loss: 0.0018701612716540694\n",
            "Loss: 0.0011887758737429976\n",
            "Epoch: 168 | Test: 0.0011887758737429976 | Test loss: 0.005023092031478882\n",
            "Loss: 0.0025885067880153656\n",
            "Epoch: 169 | Test: 0.0025885067880153656 | Test loss: 0.008447891101241112\n",
            "Loss: 0.008932482451200485\n",
            "Epoch: 170 | Test: 0.008932482451200485 | Test loss: 0.005023092031478882\n",
            "Loss: 0.0025885067880153656\n",
            "Epoch: 171 | Test: 0.0025885067880153656 | Test loss: 0.008447891101241112\n",
            "Loss: 0.008932482451200485\n",
            "Epoch: 172 | Test: 0.008932482451200485 | Test loss: 0.005023092031478882\n",
            "Loss: 0.0025885067880153656\n",
            "Epoch: 173 | Test: 0.0025885067880153656 | Test loss: 0.008447891101241112\n",
            "Loss: 0.008932482451200485\n",
            "Epoch: 174 | Test: 0.008932482451200485 | Test loss: 0.005023092031478882\n",
            "Loss: 0.0025885067880153656\n",
            "Epoch: 175 | Test: 0.0025885067880153656 | Test loss: 0.008447891101241112\n",
            "Loss: 0.008932482451200485\n",
            "Epoch: 176 | Test: 0.008932482451200485 | Test loss: 0.005023092031478882\n",
            "Loss: 0.0025885067880153656\n",
            "Epoch: 177 | Test: 0.0025885067880153656 | Test loss: 0.008447891101241112\n",
            "Loss: 0.008932482451200485\n",
            "Epoch: 178 | Test: 0.008932482451200485 | Test loss: 0.005023092031478882\n",
            "Loss: 0.0025885067880153656\n",
            "Epoch: 179 | Test: 0.0025885067880153656 | Test loss: 0.008447891101241112\n",
            "Loss: 0.008932482451200485\n",
            "Epoch: 180 | Test: 0.008932482451200485 | Test loss: 0.005023092031478882\n",
            "Loss: 0.0025885067880153656\n",
            "Epoch: 181 | Test: 0.0025885067880153656 | Test loss: 0.008447891101241112\n",
            "Loss: 0.008932482451200485\n",
            "Epoch: 182 | Test: 0.008932482451200485 | Test loss: 0.005023092031478882\n",
            "Loss: 0.0025885067880153656\n",
            "Epoch: 183 | Test: 0.0025885067880153656 | Test loss: 0.008447891101241112\n",
            "Loss: 0.008932482451200485\n",
            "Epoch: 184 | Test: 0.008932482451200485 | Test loss: 0.005023092031478882\n",
            "Loss: 0.0025885067880153656\n",
            "Epoch: 185 | Test: 0.0025885067880153656 | Test loss: 0.008447891101241112\n",
            "Loss: 0.008932482451200485\n",
            "Epoch: 186 | Test: 0.008932482451200485 | Test loss: 0.005023092031478882\n",
            "Loss: 0.0025885067880153656\n",
            "Epoch: 187 | Test: 0.0025885067880153656 | Test loss: 0.008447891101241112\n",
            "Loss: 0.008932482451200485\n",
            "Epoch: 188 | Test: 0.008932482451200485 | Test loss: 0.005023092031478882\n",
            "Loss: 0.0025885067880153656\n",
            "Epoch: 189 | Test: 0.0025885067880153656 | Test loss: 0.008447891101241112\n",
            "Loss: 0.008932482451200485\n",
            "Epoch: 190 | Test: 0.008932482451200485 | Test loss: 0.005023092031478882\n",
            "Loss: 0.0025885067880153656\n",
            "Epoch: 191 | Test: 0.0025885067880153656 | Test loss: 0.008447891101241112\n",
            "Loss: 0.008932482451200485\n",
            "Epoch: 192 | Test: 0.008932482451200485 | Test loss: 0.005023092031478882\n",
            "Loss: 0.0025885067880153656\n",
            "Epoch: 193 | Test: 0.0025885067880153656 | Test loss: 0.008447891101241112\n",
            "Loss: 0.008932482451200485\n",
            "Epoch: 194 | Test: 0.008932482451200485 | Test loss: 0.005023092031478882\n",
            "Loss: 0.0025885067880153656\n",
            "Epoch: 195 | Test: 0.0025885067880153656 | Test loss: 0.008447891101241112\n",
            "Loss: 0.008932482451200485\n",
            "Epoch: 196 | Test: 0.008932482451200485 | Test loss: 0.005023092031478882\n",
            "Loss: 0.0025885067880153656\n",
            "Epoch: 197 | Test: 0.0025885067880153656 | Test loss: 0.008447891101241112\n",
            "Loss: 0.008932482451200485\n",
            "Epoch: 198 | Test: 0.008932482451200485 | Test loss: 0.005023092031478882\n",
            "Loss: 0.0025885067880153656\n",
            "Epoch: 199 | Test: 0.0025885067880153656 | Test loss: 0.008447891101241112\n",
            "OrderedDict([('weights', tensor([0.6990])), ('bias', tensor([0.3093]))])\n"
          ]
        }
      ]
    },
    {
      "cell_type": "code",
      "source": [
        "model_0.state_dict()"
      ],
      "metadata": {
        "colab": {
          "base_uri": "https://localhost:8080/"
        },
        "id": "Q00fVir0rFcg",
        "outputId": "0e0b9046-cc31-498b-c6da-5cd3adb8bef2"
      },
      "execution_count": 22,
      "outputs": [
        {
          "output_type": "execute_result",
          "data": {
            "text/plain": [
              "OrderedDict([('weights', tensor([0.6990])), ('bias', tensor([0.3093]))])"
            ]
          },
          "metadata": {},
          "execution_count": 22
        }
      ]
    },
    {
      "cell_type": "code",
      "source": [
        "weight, bias"
      ],
      "metadata": {
        "colab": {
          "base_uri": "https://localhost:8080/"
        },
        "id": "mV3NKqeYtmK5",
        "outputId": "6af693c8-932b-4802-8ccb-9646afbba0bb"
      },
      "execution_count": 23,
      "outputs": [
        {
          "output_type": "execute_result",
          "data": {
            "text/plain": [
              "(0.7, 0.3)"
            ]
          },
          "metadata": {},
          "execution_count": 23
        }
      ]
    },
    {
      "cell_type": "code",
      "source": [
        "epoch_count, loss_values, test_loss_values"
      ],
      "metadata": {
        "colab": {
          "base_uri": "https://localhost:8080/"
        },
        "id": "oqQgIXcGqQ6d",
        "outputId": "c94566ac-ac5b-4416-cab1-ab5372492d21"
      },
      "execution_count": 24,
      "outputs": [
        {
          "output_type": "execute_result",
          "data": {
            "text/plain": [
              "([0,\n",
              "  10,\n",
              "  20,\n",
              "  30,\n",
              "  40,\n",
              "  50,\n",
              "  60,\n",
              "  70,\n",
              "  80,\n",
              "  90,\n",
              "  100,\n",
              "  110,\n",
              "  120,\n",
              "  130,\n",
              "  140,\n",
              "  150,\n",
              "  160,\n",
              "  170,\n",
              "  180,\n",
              "  190],\n",
              " [tensor(0.3129, grad_fn=<MeanBackward0>),\n",
              "  tensor(0.1977, grad_fn=<MeanBackward0>),\n",
              "  tensor(0.0891, grad_fn=<MeanBackward0>),\n",
              "  tensor(0.0531, grad_fn=<MeanBackward0>),\n",
              "  tensor(0.0454, grad_fn=<MeanBackward0>),\n",
              "  tensor(0.0417, grad_fn=<MeanBackward0>),\n",
              "  tensor(0.0382, grad_fn=<MeanBackward0>),\n",
              "  tensor(0.0348, grad_fn=<MeanBackward0>),\n",
              "  tensor(0.0313, grad_fn=<MeanBackward0>),\n",
              "  tensor(0.0279, grad_fn=<MeanBackward0>),\n",
              "  tensor(0.0245, grad_fn=<MeanBackward0>),\n",
              "  tensor(0.0210, grad_fn=<MeanBackward0>),\n",
              "  tensor(0.0176, grad_fn=<MeanBackward0>),\n",
              "  tensor(0.0142, grad_fn=<MeanBackward0>),\n",
              "  tensor(0.0107, grad_fn=<MeanBackward0>),\n",
              "  tensor(0.0073, grad_fn=<MeanBackward0>),\n",
              "  tensor(0.0039, grad_fn=<MeanBackward0>),\n",
              "  tensor(0.0089, grad_fn=<MeanBackward0>),\n",
              "  tensor(0.0089, grad_fn=<MeanBackward0>),\n",
              "  tensor(0.0089, grad_fn=<MeanBackward0>)],\n",
              " [tensor(0.4811),\n",
              "  tensor(0.3464),\n",
              "  tensor(0.2173),\n",
              "  tensor(0.1446),\n",
              "  tensor(0.1136),\n",
              "  tensor(0.0992),\n",
              "  tensor(0.0889),\n",
              "  tensor(0.0806),\n",
              "  tensor(0.0723),\n",
              "  tensor(0.0647),\n",
              "  tensor(0.0565),\n",
              "  tensor(0.0482),\n",
              "  tensor(0.0406),\n",
              "  tensor(0.0323),\n",
              "  tensor(0.0241),\n",
              "  tensor(0.0165),\n",
              "  tensor(0.0082),\n",
              "  tensor(0.0050),\n",
              "  tensor(0.0050),\n",
              "  tensor(0.0050)])"
            ]
          },
          "metadata": {},
          "execution_count": 24
        }
      ]
    },
    {
      "cell_type": "code",
      "source": [
        "# matplotlib works with numpy arrays but not with tensor values\n",
        "import numpy as np\n",
        "np.array(torch.tensor(loss_values).numpy()), test_loss_values"
      ],
      "metadata": {
        "colab": {
          "base_uri": "https://localhost:8080/"
        },
        "id": "J6vd7CBdrCMd",
        "outputId": "3ff6bc5a-5182-4413-92c0-942ab6d67824"
      },
      "execution_count": 25,
      "outputs": [
        {
          "output_type": "execute_result",
          "data": {
            "text/plain": [
              "(array([0.31288138, 0.19767132, 0.08908726, 0.05314853, 0.04543797,\n",
              "        0.04167863, 0.03818933, 0.0347609 , 0.03132383, 0.0278874 ,\n",
              "        0.02445896, 0.02102021, 0.01758547, 0.01415539, 0.01071659,\n",
              "        0.00728353, 0.00385178, 0.00893248, 0.00893248, 0.00893248],\n",
              "       dtype=float32),\n",
              " [tensor(0.4811),\n",
              "  tensor(0.3464),\n",
              "  tensor(0.2173),\n",
              "  tensor(0.1446),\n",
              "  tensor(0.1136),\n",
              "  tensor(0.0992),\n",
              "  tensor(0.0889),\n",
              "  tensor(0.0806),\n",
              "  tensor(0.0723),\n",
              "  tensor(0.0647),\n",
              "  tensor(0.0565),\n",
              "  tensor(0.0482),\n",
              "  tensor(0.0406),\n",
              "  tensor(0.0323),\n",
              "  tensor(0.0241),\n",
              "  tensor(0.0165),\n",
              "  tensor(0.0082),\n",
              "  tensor(0.0050),\n",
              "  tensor(0.0050),\n",
              "  tensor(0.0050)])"
            ]
          },
          "metadata": {},
          "execution_count": 25
        }
      ]
    },
    {
      "cell_type": "code",
      "source": [
        "# plot the loss curves\n",
        "plt.plot(epoch_count, np.array(torch.tensor(loss_values).numpy()), label=\"Train loss\")\n",
        "plt.plot(epoch_count, test_loss_values, label=\"Test loss\")\n",
        "plt.title(\"Training and test loss curves\")\n",
        "plt.ylabel(\"Loss\")\n",
        "plt.xlabel(\"Epochs\")\n",
        "plt.legend()"
      ],
      "metadata": {
        "colab": {
          "base_uri": "https://localhost:8080/",
          "height": 489
        },
        "id": "cBP9_hFqqOrs",
        "outputId": "1659cb40-2bc1-47df-af97-7459cafcd284"
      },
      "execution_count": 26,
      "outputs": [
        {
          "output_type": "execute_result",
          "data": {
            "text/plain": [
              "<matplotlib.legend.Legend at 0x7c29fd1c0c50>"
            ]
          },
          "metadata": {},
          "execution_count": 26
        },
        {
          "output_type": "display_data",
          "data": {
            "text/plain": [
              "<Figure size 640x480 with 1 Axes>"
            ],
            "image/png": "[encoded data removed]"
          },
          "metadata": {}
        }
      ]
    },
    {
      "cell_type": "code",
      "source": [
        "with torch.inference_mode():\n",
        "  y_preds_new = model_0(X_test)"
      ],
      "metadata": {
        "id": "h-vOVXAxtn5B"
      },
      "execution_count": 27,
      "outputs": []
    },
    {
      "cell_type": "code",
      "source": [
        "plot_predictions(predictions=y_preds)"
      ],
      "metadata": {
        "colab": {
          "base_uri": "https://localhost:8080/",
          "height": 460
        },
        "id": "zSUCAB-mvIMt",
        "outputId": "456268ef-b9b9-4975-f380-115acc303acf"
      },
      "execution_count": 28,
      "outputs": [
        {
          "output_type": "display_data",
          "data": {
            "text/plain": [
              "<Figure size 1000x700 with 1 Axes>"
            ],
            "image/png": "[encoded data removed]"
          },
          "metadata": {}
        }
      ]
    },
    {
      "cell_type": "code",
      "source": [
        "plot_predictions(predictions=y_preds_new)"
      ],
      "metadata": {
        "colab": {
          "base_uri": "https://localhost:8080/",
          "height": 460
        },
        "id": "HY6BxBECvN-T",
        "outputId": "cea5df78-4f46-4145-fb16-b5d125257e3a"
      },
      "execution_count": 29,
      "outputs": [
        {
          "output_type": "display_data",
          "data": {
            "text/plain": [
              "<Figure size 1000x700 with 1 Axes>"
            ],
            "image/png": "[encoded data removed]"
          },
          "metadata": {}
        }
      ]
    },
    {
      "cell_type": "code",
      "source": [
        "model_0"
      ],
      "metadata": {
        "colab": {
          "base_uri": "https://localhost:8080/"
        },
        "id": "_Y1axkbXoFVb",
        "outputId": "96f49899-5511-44ca-f9dc-930719d3918a"
      },
      "execution_count": 30,
      "outputs": [
        {
          "output_type": "execute_result",
          "data": {
            "text/plain": [
              "LinearRegressionModel()"
            ]
          },
          "metadata": {},
          "execution_count": 30
        }
      ]
    },
    {
      "cell_type": "markdown",
      "source": [
        "# Saving a model in PyTorch\n",
        "\n",
        "There are 3 main methods to know about saving and loading a model in PyTorch:\n",
        "\n",
        "1. `torch.save()` - allows to save a PyTorch object in python's pickle format.\n",
        "2. `torch.load()` - allows to load a saved PyTorch object.\n",
        "3. `torch.nn.Module.()` - This allows to load a model's saved state dictionary\n"
      ],
      "metadata": {
        "id": "265kXzpmoFSA"
      }
    },
    {
      "cell_type": "code",
      "source": [
        "model_0.state_dict()"
      ],
      "metadata": {
        "colab": {
          "base_uri": "https://localhost:8080/"
        },
        "id": "gYbwuEXnoFPi",
        "outputId": "23574bc8-a481-462a-d912-f80370cd03e7"
      },
      "execution_count": 31,
      "outputs": [
        {
          "output_type": "execute_result",
          "data": {
            "text/plain": [
              "OrderedDict([('weights', tensor([0.6990])), ('bias', tensor([0.3093]))])"
            ]
          },
          "metadata": {},
          "execution_count": 31
        }
      ]
    },
    {
      "cell_type": "code",
      "source": [
        "# Saving our pytorch model\n",
        "from pathlib import Path\n",
        "\n",
        "# 1. Create a model directory\n",
        "MODEL_PATH = Path(\"models\")\n",
        "MODEL_PATH.mkdir(parents=True, exist_ok=True)\n",
        "\n",
        "# 2. Create model save path\n",
        "MODEL_NAME = \"01_pytorch_workflow_model.pth\" #pth is the pytorch object extention\n",
        "MODEL_SAVE_PATH = MODEL_PATH / MODEL_NAME\n",
        "\n",
        "# 3. Save the model state dict\n",
        "print(f\"Saving model to: {MODEL_SAVE_PATH}\")\n",
        "\n",
        "torch.save(obj=model_0.state_dict(),\n",
        "           f=MODEL_SAVE_PATH)"
      ],
      "metadata": {
        "colab": {
          "base_uri": "https://localhost:8080/"
        },
        "id": "AAHx8yVKoFMR",
        "outputId": "06f049b4-8ef0-4c3f-a064-05cf9c959cc3"
      },
      "execution_count": 32,
      "outputs": [
        {
          "output_type": "stream",
          "name": "stdout",
          "text": [
            "Saving model to: models/01_pytorch_workflow_model.pth\n"
          ]
        }
      ]
    },
    {
      "cell_type": "code",
      "source": [
        "!ls -l models"
      ],
      "metadata": {
        "colab": {
          "base_uri": "https://localhost:8080/"
        },
        "id": "dHOVDF3loFJc",
        "outputId": "9b5735fa-accf-4f92-af5b-856d61dbb25b"
      },
      "execution_count": 33,
      "outputs": [
        {
          "output_type": "stream",
          "name": "stdout",
          "text": [
            "total 4\n",
            "-rw-r--r-- 1 root root 1668 Mar 27 18:43 01_pytorch_workflow_model.pth\n"
          ]
        }
      ]
    },
    {
      "cell_type": "markdown",
      "source": [
        "from types import new_class\n",
        "# Loading a pytorch model\n",
        "\n",
        "Since we saved our models's  `state_dict()` rather the entire model, we'll create a new instance of our model class and load in the saved state_dict() into that"
      ],
      "metadata": {
        "id": "Ls-vNsHBoFG7"
      }
    },
    {
      "cell_type": "code",
      "source": [
        "model_0.state_dict()"
      ],
      "metadata": {
        "colab": {
          "base_uri": "https://localhost:8080/"
        },
        "id": "4jTuJFnToFDY",
        "outputId": "fcb5b60d-766b-450b-81d6-1f9c9778391b"
      },
      "execution_count": 34,
      "outputs": [
        {
          "output_type": "execute_result",
          "data": {
            "text/plain": [
              "OrderedDict([('weights', tensor([0.6990])), ('bias', tensor([0.3093]))])"
            ]
          },
          "metadata": {},
          "execution_count": 34
        }
      ]
    },
    {
      "cell_type": "code",
      "source": [
        "# To load in a saved state_dict, we have to instantiate a new instance of our model class\n",
        "loaded_model_0 = LinearRegressionModel()\n",
        "\n",
        "#Load the saved state_dict of model_0\n",
        "# (this will update the new instance with updated parameters)\n",
        "loaded_model_0.load_state_dict(torch.load(f=MODEL_SAVE_PATH))\n",
        "\n",
        "#Put the loaded model in eval mode\n",
        "loaded_model_0.eval()"
      ],
      "metadata": {
        "colab": {
          "base_uri": "https://localhost:8080/"
        },
        "id": "75D5-wBjoE_y",
        "outputId": "853ad79a-d266-4123-f7f7-68a5c5b835fc"
      },
      "execution_count": 35,
      "outputs": [
        {
          "output_type": "execute_result",
          "data": {
            "text/plain": [
              "LinearRegressionModel()"
            ]
          },
          "metadata": {},
          "execution_count": 35
        }
      ]
    },
    {
      "cell_type": "code",
      "source": [
        "loaded_model_0.state_dict()"
      ],
      "metadata": {
        "colab": {
          "base_uri": "https://localhost:8080/"
        },
        "id": "J_RCi7Zzx-na",
        "outputId": "f5db77b9-1eca-43e4-d076-89e200d9b8b8"
      },
      "execution_count": 36,
      "outputs": [
        {
          "output_type": "execute_result",
          "data": {
            "text/plain": [
              "OrderedDict([('weights', tensor([0.6990])), ('bias', tensor([0.3093]))])"
            ]
          },
          "metadata": {},
          "execution_count": 36
        }
      ]
    },
    {
      "cell_type": "code",
      "source": [
        "# make some model preds\n",
        "model_0.eval()\n",
        "with torch.inference_mode():\n",
        "  y_preds = model_0(X_test)\n",
        "\n",
        "y_preds"
      ],
      "metadata": {
        "colab": {
          "base_uri": "https://localhost:8080/"
        },
        "id": "QyTP7NJAyl-I",
        "outputId": "22e5f21b-2f77-4f4d-87a3-9758ab01f234"
      },
      "execution_count": 37,
      "outputs": [
        {
          "output_type": "execute_result",
          "data": {
            "text/plain": [
              "tensor([[0.8685],\n",
              "        [0.8825],\n",
              "        [0.8965],\n",
              "        [0.9105],\n",
              "        [0.9245],\n",
              "        [0.9384],\n",
              "        [0.9524],\n",
              "        [0.9664],\n",
              "        [0.9804],\n",
              "        [0.9944]])"
            ]
          },
          "metadata": {},
          "execution_count": 37
        }
      ]
    },
    {
      "cell_type": "code",
      "source": [
        "# make some predictions with our loaded model\n",
        "loaded_model_0.eval()\n",
        "with torch.inference_mode():\n",
        "  loaded_model_preds = loaded_model_0(X_test)\n",
        "\n",
        "loaded_model_preds\n"
      ],
      "metadata": {
        "colab": {
          "base_uri": "https://localhost:8080/"
        },
        "id": "HJ1cMqnzyD8U",
        "outputId": "00b5af58-1507-4df5-aa89-125c4e22b627"
      },
      "execution_count": 38,
      "outputs": [
        {
          "output_type": "execute_result",
          "data": {
            "text/plain": [
              "tensor([[0.8685],\n",
              "        [0.8825],\n",
              "        [0.8965],\n",
              "        [0.9105],\n",
              "        [0.9245],\n",
              "        [0.9384],\n",
              "        [0.9524],\n",
              "        [0.9664],\n",
              "        [0.9804],\n",
              "        [0.9944]])"
            ]
          },
          "metadata": {},
          "execution_count": 38
        }
      ]
    },
    {
      "cell_type": "code",
      "source": [
        "# compare loaded model preds with original model preds\n",
        "y_preds == loaded_model_preds"
      ],
      "metadata": {
        "colab": {
          "base_uri": "https://localhost:8080/"
        },
        "id": "gdtgpBECyTmf",
        "outputId": "afb4b908-2be0-4ad9-8aff-c12255fa5812"
      },
      "execution_count": 39,
      "outputs": [
        {
          "output_type": "execute_result",
          "data": {
            "text/plain": [
              "tensor([[True],\n",
              "        [True],\n",
              "        [True],\n",
              "        [True],\n",
              "        [True],\n",
              "        [True],\n",
              "        [True],\n",
              "        [True],\n",
              "        [True],\n",
              "        [True]])"
            ]
          },
          "metadata": {},
          "execution_count": 39
        }
      ]
    },
    {
      "cell_type": "markdown",
      "source": [
        "#  Putting it all together\n",
        "Let's go back through the steps above and see it all in one place."
      ],
      "metadata": {
        "id": "SKMvAn8jy78x"
      }
    },
    {
      "cell_type": "code",
      "source": [
        "# importing pytorch\n",
        "import torch\n",
        "from torch import nn\n",
        "import matplotlib.pyplot as plt\n",
        "import numpy as np\n",
        "\n",
        "# check pytorch version\n",
        "torch.__version__"
      ],
      "metadata": {
        "colab": {
          "base_uri": "https://localhost:8080/",
          "height": 36
        },
        "id": "9nZMvkn_zHvY",
        "outputId": "83bed07b-a7e8-4c34-cbe1-b36d731566cc"
      },
      "execution_count": 40,
      "outputs": [
        {
          "output_type": "execute_result",
          "data": {
            "text/plain": [
              "'2.6.0+cu124'"
            ],
            "application/vnd.google.colaboratory.intrinsic+json": {
              "type": "string"
            }
          },
          "metadata": {},
          "execution_count": 40
        }
      ]
    },
    {
      "cell_type": "markdown",
      "source": [
        "\n",
        "Create device—agnostic code.\n",
        "This means if we've got access to a GPU, our code will use it (for potentially faster computing) .\n",
        "If no GPU is available, the code will default to using CPL"
      ],
      "metadata": {
        "id": "pE41JPy7zmLN"
      }
    },
    {
      "cell_type": "code",
      "source": [
        "# Setup device agnostic code\n",
        "device = \"cuda\" if torch.cuda.is_available() else \"cpu\"\n",
        "device"
      ],
      "metadata": {
        "colab": {
          "base_uri": "https://localhost:8080/",
          "height": 36
        },
        "id": "gSROWV3Kzyd0",
        "outputId": "25b8fb12-bbc3-4a8f-cc77-dc1127cd1455"
      },
      "execution_count": 41,
      "outputs": [
        {
          "output_type": "execute_result",
          "data": {
            "text/plain": [
              "'cuda'"
            ],
            "application/vnd.google.colaboratory.intrinsic+json": {
              "type": "string"
            }
          },
          "metadata": {},
          "execution_count": 41
        }
      ]
    },
    {
      "cell_type": "code",
      "source": [
        "!nvidia-smi"
      ],
      "metadata": {
        "colab": {
          "base_uri": "https://localhost:8080/"
        },
        "id": "9tsK96DV0VKK",
        "outputId": "b999b157-43fd-406a-d364-e04495bf2102"
      },
      "execution_count": 42,
      "outputs": [
        {
          "output_type": "stream",
          "name": "stdout",
          "text": [
            "Thu Mar 27 18:43:29 2025       \n",
            "+-----------------------------------------------------------------------------------------+\n",
            "| NVIDIA-SMI 550.54.15              Driver Version: 550.54.15      CUDA Version: 12.4     |\n",
            "|-----------------------------------------+------------------------+----------------------+\n",
            "| GPU  Name                 Persistence-M | Bus-Id          Disp.A | Volatile Uncorr. ECC |\n",
            "| Fan  Temp   Perf          Pwr:Usage/Cap |           Memory-Usage | GPU-Util  Compute M. |\n",
            "|                                         |                        |               MIG M. |\n",
            "|=========================================+========================+======================|\n",
            "|   0  Tesla T4                       Off |   00000000:00:04.0 Off |                    0 |\n",
            "| N/A   37C    P8              9W /   70W |       2MiB /  15360MiB |      0%      Default |\n",
            "|                                         |                        |                  N/A |\n",
            "+-----------------------------------------+------------------------+----------------------+\n",
            "                                                                                         \n",
            "+-----------------------------------------------------------------------------------------+\n",
            "| Processes:                                                                              |\n",
            "|  GPU   GI   CI        PID   Type   Process name                              GPU Memory |\n",
            "|        ID   ID                                                               Usage      |\n",
            "|=========================================================================================|\n",
            "|  No running processes found                                                             |\n",
            "+-----------------------------------------------------------------------------------------+\n"
          ]
        }
      ]
    },
    {
      "cell_type": "markdown",
      "source": [
        "# Data"
      ],
      "metadata": {
        "id": "71c3IDqBzYDW"
      }
    },
    {
      "cell_type": "markdown",
      "source": [
        "# Create some data using the linear regression formula `y = weight * X + bias`"
      ],
      "metadata": {
        "id": "b9jkEBX-0vQx"
      }
    },
    {
      "cell_type": "code",
      "source": [
        "weight = 0.7\n",
        "bias = 0.3\n",
        "\n",
        "# create range values\n",
        "start = 0\n",
        "end = 1\n",
        "step = 0.02\n",
        "\n",
        "# create X and y (features and label)\n",
        "X = torch.arange (start, end, step).unsqueeze(dim=1)\n",
        "y = weight * X + bias\n",
        "\n",
        "X[:10], y[:10]"
      ],
      "metadata": {
        "colab": {
          "base_uri": "https://localhost:8080/"
        },
        "id": "icb0rE5e0_zK",
        "outputId": "8e88f4df-278e-41db-c6f2-990913fd3eae"
      },
      "execution_count": 43,
      "outputs": [
        {
          "output_type": "execute_result",
          "data": {
            "text/plain": [
              "(tensor([[0.0000],\n",
              "         [0.0200],\n",
              "         [0.0400],\n",
              "         [0.0600],\n",
              "         [0.0800],\n",
              "         [0.1000],\n",
              "         [0.1200],\n",
              "         [0.1400],\n",
              "         [0.1600],\n",
              "         [0.1800]]),\n",
              " tensor([[0.3000],\n",
              "         [0.3140],\n",
              "         [0.3280],\n",
              "         [0.3420],\n",
              "         [0.3560],\n",
              "         [0.3700],\n",
              "         [0.3840],\n",
              "         [0.3980],\n",
              "         [0.4120],\n",
              "         [0.4260]]))"
            ]
          },
          "metadata": {},
          "execution_count": 43
        }
      ]
    },
    {
      "cell_type": "code",
      "source": [
        "# split data\n",
        "train_split = int(0.8*len(X))\n",
        "X_train, y_train = X[:train_split], y[:train_split]\n",
        "X_test, y_test = X[train_split:], y[train_split:]\n",
        "\n",
        "len(X_train), len(y_train), len(X_test), len(y_test)"
      ],
      "metadata": {
        "colab": {
          "base_uri": "https://localhost:8080/"
        },
        "id": "_MdtybeX2otY",
        "outputId": "874cafa4-6e7c-4b63-da82-15722633dee3"
      },
      "execution_count": 44,
      "outputs": [
        {
          "output_type": "execute_result",
          "data": {
            "text/plain": [
              "(40, 40, 10, 10)"
            ]
          },
          "metadata": {},
          "execution_count": 44
        }
      ]
    },
    {
      "cell_type": "code",
      "source": [
        "def plot_predictions(train_data = X_train,\n",
        "                     train_labels = y_train,\n",
        "                     test_data = X_test,\n",
        "                     test_labels = y_test,\n",
        "                     predictions = None):\n",
        "  \"\"\"\n",
        "  Plots training data, test data and compares predictions.\n",
        "  \"\"\"\n",
        "  plt.figure(figsize=(10,7))\n",
        "\n",
        "  # plot training data in blue\n",
        "  plt.scatter(train_data, train_labels, c=\"b\", s=4, label=\"training data\")\n",
        "\n",
        "  # plot test data in green\n",
        "  plt.scatter(test_data, test_labels, c=\"g\", s=4, label=\"test data\")\n",
        "  #Are there predictions?\n",
        "  if predictions is not None:\n",
        "    plt.scatter(test_data, predictions, c=\"r\", s=4, label=\"predictions\")\n",
        "  plt.legend(prop={\"size\": 14})"
      ],
      "metadata": {
        "id": "AlZgesG-5Aos"
      },
      "execution_count": 45,
      "outputs": []
    },
    {
      "cell_type": "code",
      "source": [
        "# plot the data\n",
        "\n",
        "plot_predictions(X_train, y_train, X_test, y_test)"
      ],
      "metadata": {
        "id": "5dJSY7Rq4ugG",
        "colab": {
          "base_uri": "https://localhost:8080/",
          "height": 460
        },
        "outputId": "2765c625-87d8-452f-9a4a-932be14385de"
      },
      "execution_count": 46,
      "outputs": [
        {
          "output_type": "display_data",
          "data": {
            "text/plain": [
              "<Figure size 1000x700 with 1 Axes>"
            ],
            "image/png": "[encoded data removed]"
          },
          "metadata": {}
        }
      ]
    },
    {
      "cell_type": "markdown",
      "source": [],
      "metadata": {
        "id": "3yEk3_Y24AgJ"
      }
    },
    {
      "cell_type": "markdown",
      "source": [
        "## Building a pytorch linear model (Straightline)"
      ],
      "metadata": {
        "id": "NnNiKyym4zfn"
      }
    },
    {
      "cell_type": "code",
      "source": [
        "# create a linear model by subclassing nn.Module\n",
        "\n",
        "class linearRegressionModelV2(nn.Module):\n",
        "  def __init__(self):\n",
        "    super().__init__()\n",
        "    # use nn.Linear() for creating the model parameters\n",
        "    self.linear_layer = nn.Linear(\n",
        "        in_features=1,\n",
        "        out_features=1\n",
        "    )\n",
        "  def forward(self, x: torch.Tensor) -> torch.Tensor:\n",
        "    return self.linear_layer(x)\n",
        "\n",
        "  # set the manual seed\n",
        "\n",
        "torch.manual_seed(42)\n",
        "model_1 = linearRegressionModelV2()\n",
        "model_1, model_1.state_dict()"
      ],
      "metadata": {
        "colab": {
          "base_uri": "https://localhost:8080/"
        },
        "id": "r5xI-z547mvd",
        "outputId": "94abb626-a6a6-425f-9896-1971e909a0c3"
      },
      "execution_count": 55,
      "outputs": [
        {
          "output_type": "execute_result",
          "data": {
            "text/plain": [
              "(linearRegressionModelV2(\n",
              "   (linear_layer): Linear(in_features=1, out_features=1, bias=True)\n",
              " ),\n",
              " OrderedDict([('linear_layer.weight', tensor([[0.7645]])),\n",
              "              ('linear_layer.bias', tensor([0.8300]))]))"
            ]
          },
          "metadata": {},
          "execution_count": 55
        }
      ]
    },
    {
      "cell_type": "code",
      "source": [
        "from IPython.display import Image, display\n",
        "\n",
        "\n",
        "image_files = [\n",
        "  '/content/Screenshot_20250328_125748.png'\n",
        "\n",
        "]"
      ],
      "metadata": {
        "id": "mmrGGvGH98Xv"
      },
      "execution_count": 91,
      "outputs": []
    },
    {
      "cell_type": "code",
      "source": [
        "# Check the model current device\n",
        "next(model_1.parameters()).device"
      ],
      "metadata": {
        "colab": {
          "base_uri": "https://localhost:8080/"
        },
        "id": "8Pjs0EMQDTf6",
        "outputId": "b6f39aca-eacc-4b0f-d586-4268a70a669f"
      },
      "execution_count": 92,
      "outputs": [
        {
          "output_type": "execute_result",
          "data": {
            "text/plain": [
              "device(type='cpu')"
            ]
          },
          "metadata": {},
          "execution_count": 92
        }
      ]
    },
    {
      "cell_type": "code",
      "source": [
        "# Set the model to use the target device\n",
        "\n",
        "model_1.to(device)\n",
        "next(model_1.parameters()).device"
      ],
      "metadata": {
        "colab": {
          "base_uri": "https://localhost:8080/"
        },
        "id": "CUq-QwqMCruS",
        "outputId": "d92cc394-e8cc-41ef-dc3f-4f768b04fb66"
      },
      "execution_count": 108,
      "outputs": [
        {
          "output_type": "execute_result",
          "data": {
            "text/plain": [
              "device(type='cuda', index=0)"
            ]
          },
          "metadata": {},
          "execution_count": 108
        }
      ]
    },
    {
      "cell_type": "markdown",
      "source": [
        "# Training\n",
        "For training, we need:\n",
        "* Loss function\n",
        "* Optimizer\n",
        "* Training Loop\n",
        "* Testing Loop"
      ],
      "metadata": {
        "id": "cbFJ0uYiDikd"
      }
    },
    {
      "cell_type": "code",
      "source": [
        "Loss_fn = nn.L1Loss()\n",
        "\n",
        "# setup an optimizer\n",
        "optimizer = torch.optim.SGD(params=model_1.parameters(),\n",
        "                            lr=0.01)"
      ],
      "metadata": {
        "id": "ZV49BRS3Dw9f"
      },
      "execution_count": 109,
      "outputs": []
    },
    {
      "cell_type": "code",
      "source": [
        "# Writing a training loop\n",
        "\n",
        "torch.manual_seed(42)\n",
        "\n",
        "epochs = 200\n",
        "\n",
        "\n",
        "# put data on the target device (Device agnostic code for data)\n",
        "X_train = X_train.to(device)\n",
        "y_train = y_train.to(device)\n",
        "X_test = X_test.to(device)\n",
        "y_test = y_test.to(device)\n",
        "\n",
        "for epoch in range(epochs):\n",
        "  model_1.train()\n",
        "\n",
        "# forward pass\n",
        "  y_pred = model_1(X_train)\n",
        "\n",
        "# calculate the loss\n",
        "  loss = Loss_fn(y_pred, y_train)\n",
        "\n",
        "# Optimizer zero grad\n",
        "  optimizer.zero_grad()\n",
        "\n",
        "# perform backpropagation\n",
        "  loss.backward()\n",
        "\n",
        "# optimizer step\n",
        "  optimizer.step()\n",
        "\n",
        "### Testing\n",
        "  model_1.eval()\n",
        "  with torch.inference_mode():\n",
        "    test_pred = model_1(X_test)\n",
        "    test_loss = Loss_fn(test_pred, y_test)\n",
        "\n",
        "  # print out what's happening\n",
        "  if epoch % 1 == 0:\n",
        "    print(f\"Epoch: {epoch} | Train loss: {loss} | Test loss: {test_loss}\")"
      ],
      "metadata": {
        "colab": {
          "base_uri": "https://localhost:8080/"
        },
        "id": "k3fu4nbcHlLh",
        "outputId": "9f33aaa8-bded-4f1f-ae9d-8150de74326f"
      },
      "execution_count": 110,
      "outputs": [
        {
          "output_type": "stream",
          "name": "stdout",
          "text": [
            "Epoch: 0 | Train loss: 0.0012645035749301314 | Test loss: 0.013801801018416882\n",
            "Epoch: 1 | Train loss: 0.010256479494273663 | Test loss: 0.00033081771107390523\n",
            "Epoch: 2 | Train loss: 0.0012645035749301314 | Test loss: 0.013801801018416882\n",
            "Epoch: 3 | Train loss: 0.010256479494273663 | Test loss: 0.00033081771107390523\n",
            "Epoch: 4 | Train loss: 0.0012645035749301314 | Test loss: 0.013801801018416882\n",
            "Epoch: 5 | Train loss: 0.010256479494273663 | Test loss: 0.00033081771107390523\n",
            "Epoch: 6 | Train loss: 0.0012645035749301314 | Test loss: 0.013801801018416882\n",
            "Epoch: 7 | Train loss: 0.010256479494273663 | Test loss: 0.00033081771107390523\n",
            "Epoch: 8 | Train loss: 0.0012645035749301314 | Test loss: 0.013801801018416882\n",
            "Epoch: 9 | Train loss: 0.010256479494273663 | Test loss: 0.00033081771107390523\n",
            "Epoch: 10 | Train loss: 0.0012645035749301314 | Test loss: 0.013801801018416882\n",
            "Epoch: 11 | Train loss: 0.010256479494273663 | Test loss: 0.00033081771107390523\n",
            "Epoch: 12 | Train loss: 0.0012645035749301314 | Test loss: 0.013801801018416882\n",
            "Epoch: 13 | Train loss: 0.010256479494273663 | Test loss: 0.00033081771107390523\n",
            "Epoch: 14 | Train loss: 0.0012645035749301314 | Test loss: 0.013801801018416882\n",
            "Epoch: 15 | Train loss: 0.010256479494273663 | Test loss: 0.00033081771107390523\n",
            "Epoch: 16 | Train loss: 0.0012645035749301314 | Test loss: 0.013801801018416882\n",
            "Epoch: 17 | Train loss: 0.010256479494273663 | Test loss: 0.00033081771107390523\n",
            "Epoch: 18 | Train loss: 0.0012645035749301314 | Test loss: 0.013801801018416882\n",
            "Epoch: 19 | Train loss: 0.010256479494273663 | Test loss: 0.00033081771107390523\n",
            "Epoch: 20 | Train loss: 0.0012645035749301314 | Test loss: 0.013801801018416882\n",
            "Epoch: 21 | Train loss: 0.010256479494273663 | Test loss: 0.00033081771107390523\n",
            "Epoch: 22 | Train loss: 0.0012645035749301314 | Test loss: 0.013801801018416882\n",
            "Epoch: 23 | Train loss: 0.010256479494273663 | Test loss: 0.00033081771107390523\n",
            "Epoch: 24 | Train loss: 0.0012645035749301314 | Test loss: 0.013801801018416882\n",
            "Epoch: 25 | Train loss: 0.010256479494273663 | Test loss: 0.00033081771107390523\n",
            "Epoch: 26 | Train loss: 0.0012645035749301314 | Test loss: 0.013801801018416882\n",
            "Epoch: 27 | Train loss: 0.010256479494273663 | Test loss: 0.00033081771107390523\n",
            "Epoch: 28 | Train loss: 0.0012645035749301314 | Test loss: 0.013801801018416882\n",
            "Epoch: 29 | Train loss: 0.010256479494273663 | Test loss: 0.00033081771107390523\n",
            "Epoch: 30 | Train loss: 0.0012645035749301314 | Test loss: 0.013801801018416882\n",
            "Epoch: 31 | Train loss: 0.010256479494273663 | Test loss: 0.00033081771107390523\n",
            "Epoch: 32 | Train loss: 0.0012645035749301314 | Test loss: 0.013801801018416882\n",
            "Epoch: 33 | Train loss: 0.010256479494273663 | Test loss: 0.00033081771107390523\n",
            "Epoch: 34 | Train loss: 0.0012645035749301314 | Test loss: 0.013801801018416882\n",
            "Epoch: 35 | Train loss: 0.010256479494273663 | Test loss: 0.00033081771107390523\n",
            "Epoch: 36 | Train loss: 0.0012645035749301314 | Test loss: 0.013801801018416882\n",
            "Epoch: 37 | Train loss: 0.010256479494273663 | Test loss: 0.00033081771107390523\n",
            "Epoch: 38 | Train loss: 0.0012645035749301314 | Test loss: 0.013801801018416882\n",
            "Epoch: 39 | Train loss: 0.010256479494273663 | Test loss: 0.00033081771107390523\n",
            "Epoch: 40 | Train loss: 0.0012645035749301314 | Test loss: 0.013801801018416882\n",
            "Epoch: 41 | Train loss: 0.010256479494273663 | Test loss: 0.00033081771107390523\n",
            "Epoch: 42 | Train loss: 0.0012645035749301314 | Test loss: 0.013801801018416882\n",
            "Epoch: 43 | Train loss: 0.010256479494273663 | Test loss: 0.00033081771107390523\n",
            "Epoch: 44 | Train loss: 0.0012645035749301314 | Test loss: 0.013801801018416882\n",
            "Epoch: 45 | Train loss: 0.010256479494273663 | Test loss: 0.00033081771107390523\n",
            "Epoch: 46 | Train loss: 0.0012645035749301314 | Test loss: 0.013801801018416882\n",
            "Epoch: 47 | Train loss: 0.010256479494273663 | Test loss: 0.00033081771107390523\n",
            "Epoch: 48 | Train loss: 0.0012645035749301314 | Test loss: 0.013801801018416882\n",
            "Epoch: 49 | Train loss: 0.010256479494273663 | Test loss: 0.00033081771107390523\n",
            "Epoch: 50 | Train loss: 0.0012645035749301314 | Test loss: 0.013801801018416882\n",
            "Epoch: 51 | Train loss: 0.010256479494273663 | Test loss: 0.00033081771107390523\n",
            "Epoch: 52 | Train loss: 0.0012645035749301314 | Test loss: 0.013801801018416882\n",
            "Epoch: 53 | Train loss: 0.010256479494273663 | Test loss: 0.00033081771107390523\n",
            "Epoch: 54 | Train loss: 0.0012645035749301314 | Test loss: 0.013801801018416882\n",
            "Epoch: 55 | Train loss: 0.010256479494273663 | Test loss: 0.00033081771107390523\n",
            "Epoch: 56 | Train loss: 0.0012645035749301314 | Test loss: 0.013801801018416882\n",
            "Epoch: 57 | Train loss: 0.010256479494273663 | Test loss: 0.00033081771107390523\n",
            "Epoch: 58 | Train loss: 0.0012645035749301314 | Test loss: 0.013801801018416882\n",
            "Epoch: 59 | Train loss: 0.010256479494273663 | Test loss: 0.00033081771107390523\n",
            "Epoch: 60 | Train loss: 0.0012645035749301314 | Test loss: 0.013801801018416882\n",
            "Epoch: 61 | Train loss: 0.010256479494273663 | Test loss: 0.00033081771107390523\n",
            "Epoch: 62 | Train loss: 0.0012645035749301314 | Test loss: 0.013801801018416882\n",
            "Epoch: 63 | Train loss: 0.010256479494273663 | Test loss: 0.00033081771107390523\n",
            "Epoch: 64 | Train loss: 0.0012645035749301314 | Test loss: 0.013801801018416882\n",
            "Epoch: 65 | Train loss: 0.010256479494273663 | Test loss: 0.00033081771107390523\n",
            "Epoch: 66 | Train loss: 0.0012645035749301314 | Test loss: 0.013801801018416882\n",
            "Epoch: 67 | Train loss: 0.010256479494273663 | Test loss: 0.00033081771107390523\n",
            "Epoch: 68 | Train loss: 0.0012645035749301314 | Test loss: 0.013801801018416882\n",
            "Epoch: 69 | Train loss: 0.010256479494273663 | Test loss: 0.00033081771107390523\n",
            "Epoch: 70 | Train loss: 0.0012645035749301314 | Test loss: 0.013801801018416882\n",
            "Epoch: 71 | Train loss: 0.010256479494273663 | Test loss: 0.00033081771107390523\n",
            "Epoch: 72 | Train loss: 0.0012645035749301314 | Test loss: 0.013801801018416882\n",
            "Epoch: 73 | Train loss: 0.010256479494273663 | Test loss: 0.00033081771107390523\n",
            "Epoch: 74 | Train loss: 0.0012645035749301314 | Test loss: 0.013801801018416882\n",
            "Epoch: 75 | Train loss: 0.010256479494273663 | Test loss: 0.00033081771107390523\n",
            "Epoch: 76 | Train loss: 0.0012645035749301314 | Test loss: 0.013801801018416882\n",
            "Epoch: 77 | Train loss: 0.010256479494273663 | Test loss: 0.00033081771107390523\n",
            "Epoch: 78 | Train loss: 0.0012645035749301314 | Test loss: 0.013801801018416882\n",
            "Epoch: 79 | Train loss: 0.010256479494273663 | Test loss: 0.00033081771107390523\n",
            "Epoch: 80 | Train loss: 0.0012645035749301314 | Test loss: 0.013801801018416882\n",
            "Epoch: 81 | Train loss: 0.010256479494273663 | Test loss: 0.00033081771107390523\n",
            "Epoch: 82 | Train loss: 0.0012645035749301314 | Test loss: 0.013801801018416882\n",
            "Epoch: 83 | Train loss: 0.010256479494273663 | Test loss: 0.00033081771107390523\n",
            "Epoch: 84 | Train loss: 0.0012645035749301314 | Test loss: 0.013801801018416882\n",
            "Epoch: 85 | Train loss: 0.010256479494273663 | Test loss: 0.00033081771107390523\n",
            "Epoch: 86 | Train loss: 0.0012645035749301314 | Test loss: 0.013801801018416882\n",
            "Epoch: 87 | Train loss: 0.010256479494273663 | Test loss: 0.00033081771107390523\n",
            "Epoch: 88 | Train loss: 0.0012645035749301314 | Test loss: 0.013801801018416882\n",
            "Epoch: 89 | Train loss: 0.010256479494273663 | Test loss: 0.00033081771107390523\n",
            "Epoch: 90 | Train loss: 0.0012645035749301314 | Test loss: 0.013801801018416882\n",
            "Epoch: 91 | Train loss: 0.010256479494273663 | Test loss: 0.00033081771107390523\n",
            "Epoch: 92 | Train loss: 0.0012645035749301314 | Test loss: 0.013801801018416882\n",
            "Epoch: 93 | Train loss: 0.010256479494273663 | Test loss: 0.00033081771107390523\n",
            "Epoch: 94 | Train loss: 0.0012645035749301314 | Test loss: 0.013801801018416882\n",
            "Epoch: 95 | Train loss: 0.010256479494273663 | Test loss: 0.00033081771107390523\n",
            "Epoch: 96 | Train loss: 0.0012645035749301314 | Test loss: 0.013801801018416882\n",
            "Epoch: 97 | Train loss: 0.010256479494273663 | Test loss: 0.00033081771107390523\n",
            "Epoch: 98 | Train loss: 0.0012645035749301314 | Test loss: 0.013801801018416882\n",
            "Epoch: 99 | Train loss: 0.010256479494273663 | Test loss: 0.00033081771107390523\n",
            "Epoch: 100 | Train loss: 0.0012645035749301314 | Test loss: 0.013801801018416882\n",
            "Epoch: 101 | Train loss: 0.010256479494273663 | Test loss: 0.00033081771107390523\n",
            "Epoch: 102 | Train loss: 0.0012645035749301314 | Test loss: 0.013801801018416882\n",
            "Epoch: 103 | Train loss: 0.010256479494273663 | Test loss: 0.00033081771107390523\n",
            "Epoch: 104 | Train loss: 0.0012645035749301314 | Test loss: 0.013801801018416882\n",
            "Epoch: 105 | Train loss: 0.010256479494273663 | Test loss: 0.00033081771107390523\n",
            "Epoch: 106 | Train loss: 0.0012645035749301314 | Test loss: 0.013801801018416882\n",
            "Epoch: 107 | Train loss: 0.010256479494273663 | Test loss: 0.00033081771107390523\n",
            "Epoch: 108 | Train loss: 0.0012645035749301314 | Test loss: 0.013801801018416882\n",
            "Epoch: 109 | Train loss: 0.010256479494273663 | Test loss: 0.00033081771107390523\n",
            "Epoch: 110 | Train loss: 0.0012645035749301314 | Test loss: 0.013801801018416882\n",
            "Epoch: 111 | Train loss: 0.010256479494273663 | Test loss: 0.00033081771107390523\n",
            "Epoch: 112 | Train loss: 0.0012645035749301314 | Test loss: 0.013801801018416882\n",
            "Epoch: 113 | Train loss: 0.010256479494273663 | Test loss: 0.00033081771107390523\n",
            "Epoch: 114 | Train loss: 0.0012645035749301314 | Test loss: 0.013801801018416882\n",
            "Epoch: 115 | Train loss: 0.010256479494273663 | Test loss: 0.00033081771107390523\n",
            "Epoch: 116 | Train loss: 0.0012645035749301314 | Test loss: 0.013801801018416882\n",
            "Epoch: 117 | Train loss: 0.010256479494273663 | Test loss: 0.00033081771107390523\n",
            "Epoch: 118 | Train loss: 0.0012645035749301314 | Test loss: 0.013801801018416882\n",
            "Epoch: 119 | Train loss: 0.010256479494273663 | Test loss: 0.00033081771107390523\n",
            "Epoch: 120 | Train loss: 0.0012645035749301314 | Test loss: 0.013801801018416882\n",
            "Epoch: 121 | Train loss: 0.010256479494273663 | Test loss: 0.00033081771107390523\n",
            "Epoch: 122 | Train loss: 0.0012645035749301314 | Test loss: 0.013801801018416882\n",
            "Epoch: 123 | Train loss: 0.010256479494273663 | Test loss: 0.00033081771107390523\n",
            "Epoch: 124 | Train loss: 0.0012645035749301314 | Test loss: 0.013801801018416882\n",
            "Epoch: 125 | Train loss: 0.010256479494273663 | Test loss: 0.00033081771107390523\n",
            "Epoch: 126 | Train loss: 0.0012645035749301314 | Test loss: 0.013801801018416882\n",
            "Epoch: 127 | Train loss: 0.010256479494273663 | Test loss: 0.00033081771107390523\n",
            "Epoch: 128 | Train loss: 0.0012645035749301314 | Test loss: 0.013801801018416882\n",
            "Epoch: 129 | Train loss: 0.010256479494273663 | Test loss: 0.00033081771107390523\n",
            "Epoch: 130 | Train loss: 0.0012645035749301314 | Test loss: 0.013801801018416882\n",
            "Epoch: 131 | Train loss: 0.010256479494273663 | Test loss: 0.00033081771107390523\n",
            "Epoch: 132 | Train loss: 0.0012645035749301314 | Test loss: 0.013801801018416882\n",
            "Epoch: 133 | Train loss: 0.010256479494273663 | Test loss: 0.00033081771107390523\n",
            "Epoch: 134 | Train loss: 0.0012645035749301314 | Test loss: 0.013801801018416882\n",
            "Epoch: 135 | Train loss: 0.010256479494273663 | Test loss: 0.00033081771107390523\n",
            "Epoch: 136 | Train loss: 0.0012645035749301314 | Test loss: 0.013801801018416882\n",
            "Epoch: 137 | Train loss: 0.010256479494273663 | Test loss: 0.00033081771107390523\n",
            "Epoch: 138 | Train loss: 0.0012645035749301314 | Test loss: 0.013801801018416882\n",
            "Epoch: 139 | Train loss: 0.010256479494273663 | Test loss: 0.00033081771107390523\n",
            "Epoch: 140 | Train loss: 0.0012645035749301314 | Test loss: 0.013801801018416882\n",
            "Epoch: 141 | Train loss: 0.010256479494273663 | Test loss: 0.00033081771107390523\n",
            "Epoch: 142 | Train loss: 0.0012645035749301314 | Test loss: 0.013801801018416882\n",
            "Epoch: 143 | Train loss: 0.010256479494273663 | Test loss: 0.00033081771107390523\n",
            "Epoch: 144 | Train loss: 0.0012645035749301314 | Test loss: 0.013801801018416882\n",
            "Epoch: 145 | Train loss: 0.010256479494273663 | Test loss: 0.00033081771107390523\n",
            "Epoch: 146 | Train loss: 0.0012645035749301314 | Test loss: 0.013801801018416882\n",
            "Epoch: 147 | Train loss: 0.010256479494273663 | Test loss: 0.00033081771107390523\n",
            "Epoch: 148 | Train loss: 0.0012645035749301314 | Test loss: 0.013801801018416882\n",
            "Epoch: 149 | Train loss: 0.010256479494273663 | Test loss: 0.00033081771107390523\n",
            "Epoch: 150 | Train loss: 0.0012645035749301314 | Test loss: 0.013801801018416882\n",
            "Epoch: 151 | Train loss: 0.010256479494273663 | Test loss: 0.00033081771107390523\n",
            "Epoch: 152 | Train loss: 0.0012645035749301314 | Test loss: 0.013801801018416882\n",
            "Epoch: 153 | Train loss: 0.010256479494273663 | Test loss: 0.00033081771107390523\n",
            "Epoch: 154 | Train loss: 0.0012645035749301314 | Test loss: 0.013801801018416882\n",
            "Epoch: 155 | Train loss: 0.010256479494273663 | Test loss: 0.00033081771107390523\n",
            "Epoch: 156 | Train loss: 0.0012645035749301314 | Test loss: 0.013801801018416882\n",
            "Epoch: 157 | Train loss: 0.010256479494273663 | Test loss: 0.00033081771107390523\n",
            "Epoch: 158 | Train loss: 0.0012645035749301314 | Test loss: 0.013801801018416882\n",
            "Epoch: 159 | Train loss: 0.010256479494273663 | Test loss: 0.00033081771107390523\n",
            "Epoch: 160 | Train loss: 0.0012645035749301314 | Test loss: 0.013801801018416882\n",
            "Epoch: 161 | Train loss: 0.010256479494273663 | Test loss: 0.00033081771107390523\n",
            "Epoch: 162 | Train loss: 0.0012645035749301314 | Test loss: 0.013801801018416882\n",
            "Epoch: 163 | Train loss: 0.010256479494273663 | Test loss: 0.00033081771107390523\n",
            "Epoch: 164 | Train loss: 0.0012645035749301314 | Test loss: 0.013801801018416882\n",
            "Epoch: 165 | Train loss: 0.010256479494273663 | Test loss: 0.00033081771107390523\n",
            "Epoch: 166 | Train loss: 0.0012645035749301314 | Test loss: 0.013801801018416882\n",
            "Epoch: 167 | Train loss: 0.010256479494273663 | Test loss: 0.00033081771107390523\n",
            "Epoch: 168 | Train loss: 0.0012645035749301314 | Test loss: 0.013801801018416882\n",
            "Epoch: 169 | Train loss: 0.010256479494273663 | Test loss: 0.00033081771107390523\n",
            "Epoch: 170 | Train loss: 0.0012645035749301314 | Test loss: 0.013801801018416882\n",
            "Epoch: 171 | Train loss: 0.010256479494273663 | Test loss: 0.00033081771107390523\n",
            "Epoch: 172 | Train loss: 0.0012645035749301314 | Test loss: 0.013801801018416882\n",
            "Epoch: 173 | Train loss: 0.010256479494273663 | Test loss: 0.00033081771107390523\n",
            "Epoch: 174 | Train loss: 0.0012645035749301314 | Test loss: 0.013801801018416882\n",
            "Epoch: 175 | Train loss: 0.010256479494273663 | Test loss: 0.00033081771107390523\n",
            "Epoch: 176 | Train loss: 0.0012645035749301314 | Test loss: 0.013801801018416882\n",
            "Epoch: 177 | Train loss: 0.010256479494273663 | Test loss: 0.00033081771107390523\n",
            "Epoch: 178 | Train loss: 0.0012645035749301314 | Test loss: 0.013801801018416882\n",
            "Epoch: 179 | Train loss: 0.010256479494273663 | Test loss: 0.00033081771107390523\n",
            "Epoch: 180 | Train loss: 0.0012645035749301314 | Test loss: 0.013801801018416882\n",
            "Epoch: 181 | Train loss: 0.010256479494273663 | Test loss: 0.00033081771107390523\n",
            "Epoch: 182 | Train loss: 0.0012645035749301314 | Test loss: 0.013801801018416882\n",
            "Epoch: 183 | Train loss: 0.010256479494273663 | Test loss: 0.00033081771107390523\n",
            "Epoch: 184 | Train loss: 0.0012645035749301314 | Test loss: 0.013801801018416882\n",
            "Epoch: 185 | Train loss: 0.010256479494273663 | Test loss: 0.00033081771107390523\n",
            "Epoch: 186 | Train loss: 0.0012645035749301314 | Test loss: 0.013801801018416882\n",
            "Epoch: 187 | Train loss: 0.010256479494273663 | Test loss: 0.00033081771107390523\n",
            "Epoch: 188 | Train loss: 0.0012645035749301314 | Test loss: 0.013801801018416882\n",
            "Epoch: 189 | Train loss: 0.010256479494273663 | Test loss: 0.00033081771107390523\n",
            "Epoch: 190 | Train loss: 0.0012645035749301314 | Test loss: 0.013801801018416882\n",
            "Epoch: 191 | Train loss: 0.010256479494273663 | Test loss: 0.00033081771107390523\n",
            "Epoch: 192 | Train loss: 0.0012645035749301314 | Test loss: 0.013801801018416882\n",
            "Epoch: 193 | Train loss: 0.010256479494273663 | Test loss: 0.00033081771107390523\n",
            "Epoch: 194 | Train loss: 0.0012645035749301314 | Test loss: 0.013801801018416882\n",
            "Epoch: 195 | Train loss: 0.010256479494273663 | Test loss: 0.00033081771107390523\n",
            "Epoch: 196 | Train loss: 0.0012645035749301314 | Test loss: 0.013801801018416882\n",
            "Epoch: 197 | Train loss: 0.010256479494273663 | Test loss: 0.00033081771107390523\n",
            "Epoch: 198 | Train loss: 0.0012645035749301314 | Test loss: 0.013801801018416882\n",
            "Epoch: 199 | Train loss: 0.010256479494273663 | Test loss: 0.00033081771107390523\n"
          ]
        }
      ]
    },
    {
      "cell_type": "code",
      "source": [
        "model_1.state_dict()"
      ],
      "metadata": {
        "colab": {
          "base_uri": "https://localhost:8080/"
        },
        "id": "M4J0mD-6I4e5",
        "outputId": "a49a73cc-9723-4b23-c56b-0be252ef9c5e"
      },
      "execution_count": 111,
      "outputs": [
        {
          "output_type": "execute_result",
          "data": {
            "text/plain": [
              "OrderedDict([('linear_layer.weight', tensor([[0.6968]], device='cuda:0')),\n",
              "             ('linear_layer.bias', tensor([0.3025], device='cuda:0'))])"
            ]
          },
          "metadata": {},
          "execution_count": 111
        }
      ]
    },
    {
      "cell_type": "markdown",
      "source": [
        "# Making and evaluating predictions:"
      ],
      "metadata": {
        "id": "-3i9vnLPJLP7"
      }
    },
    {
      "cell_type": "code",
      "source": [
        "# turn model into evaluation mode\n",
        "model_1.eval()\n",
        "\n",
        "# make predictions on the text data\n",
        "with torch.inference_mode():\n",
        "  y_preds = model_1(X_test)\n",
        "\n",
        "y_preds"
      ],
      "metadata": {
        "colab": {
          "base_uri": "https://localhost:8080/"
        },
        "id": "r7_fhMxqJOlD",
        "outputId": "7aa093c8-33b1-45ec-e8f2-bd38cdc97fd8"
      },
      "execution_count": 132,
      "outputs": [
        {
          "output_type": "execute_result",
          "data": {
            "text/plain": [
              "tensor([[0.8600],\n",
              "        [0.8739],\n",
              "        [0.8878],\n",
              "        [0.9018],\n",
              "        [0.9157],\n",
              "        [0.9296],\n",
              "        [0.9436],\n",
              "        [0.9575],\n",
              "        [0.9714],\n",
              "        [0.9854]], device='cuda:0')"
            ]
          },
          "metadata": {},
          "execution_count": 132
        }
      ]
    },
    {
      "cell_type": "code",
      "source": [
        "# checking out our model predictions visually:\n",
        "\n",
        "plot_predictions(predictions=y_preds)\n",
        "# (This will show error as matplotlib works with cpu, not gpu. And our data is on gpu)"
      ],
      "metadata": {
        "colab": {
          "base_uri": "https://localhost:8080/",
          "height": 851
        },
        "id": "sTUvld9QJhrx",
        "outputId": "133f5a3e-d096-4524-8c71-d1050423e91b"
      },
      "execution_count": 133,
      "outputs": [
        {
          "output_type": "error",
          "ename": "TypeError",
          "evalue": "can't convert cuda:0 device type tensor to numpy. Use Tensor.cpu() to copy the tensor to host memory first.",
          "traceback": [
            "\u001b[0;31m---------------------------------------------------------------------------\u001b[0m",
            "\u001b[0;31mTypeError\u001b[0m                                 Traceback (most recent call last)",
            "\u001b[0;32m<ipython-input-133-a98ea5bfce6b>\u001b[0m in \u001b[0;36m<cell line: 0>\u001b[0;34m()\u001b[0m\n\u001b[1;32m      1\u001b[0m \u001b[0;31m# checking out our model predictions visually:\u001b[0m\u001b[0;34m\u001b[0m\u001b[0;34m\u001b[0m\u001b[0m\n\u001b[1;32m      2\u001b[0m \u001b[0;34m\u001b[0m\u001b[0m\n\u001b[0;32m----> 3\u001b[0;31m \u001b[0mplot_predictions\u001b[0m\u001b[0;34m(\u001b[0m\u001b[0mpredictions\u001b[0m\u001b[0;34m=\u001b[0m\u001b[0my_preds\u001b[0m\u001b[0;34m)\u001b[0m\u001b[0;34m\u001b[0m\u001b[0;34m\u001b[0m\u001b[0m\n\u001b[0m\u001b[1;32m      4\u001b[0m \u001b[0;31m# (This will show error as matplotlib works with cpu, not gpu. And our data is on gpu)\u001b[0m\u001b[0;34m\u001b[0m\u001b[0;34m\u001b[0m\u001b[0m\n",
            "\u001b[0;32m<ipython-input-45-d0a5560f39b7>\u001b[0m in \u001b[0;36mplot_predictions\u001b[0;34m(train_data, train_labels, test_data, test_labels, predictions)\u001b[0m\n\u001b[1;32m     16\u001b[0m   \u001b[0;31m#Are there predictions?\u001b[0m\u001b[0;34m\u001b[0m\u001b[0;34m\u001b[0m\u001b[0m\n\u001b[1;32m     17\u001b[0m   \u001b[0;32mif\u001b[0m \u001b[0mpredictions\u001b[0m \u001b[0;32mis\u001b[0m \u001b[0;32mnot\u001b[0m \u001b[0;32mNone\u001b[0m\u001b[0;34m:\u001b[0m\u001b[0;34m\u001b[0m\u001b[0;34m\u001b[0m\u001b[0m\n\u001b[0;32m---> 18\u001b[0;31m     \u001b[0mplt\u001b[0m\u001b[0;34m.\u001b[0m\u001b[0mscatter\u001b[0m\u001b[0;34m(\u001b[0m\u001b[0mtest_data\u001b[0m\u001b[0;34m,\u001b[0m \u001b[0mpredictions\u001b[0m\u001b[0;34m,\u001b[0m \u001b[0mc\u001b[0m\u001b[0;34m=\u001b[0m\u001b[0;34m\"r\"\u001b[0m\u001b[0;34m,\u001b[0m \u001b[0ms\u001b[0m\u001b[0;34m=\u001b[0m\u001b[0;36m4\u001b[0m\u001b[0;34m,\u001b[0m \u001b[0mlabel\u001b[0m\u001b[0;34m=\u001b[0m\u001b[0;34m\"predictions\"\u001b[0m\u001b[0;34m)\u001b[0m\u001b[0;34m\u001b[0m\u001b[0;34m\u001b[0m\u001b[0m\n\u001b[0m\u001b[1;32m     19\u001b[0m   \u001b[0mplt\u001b[0m\u001b[0;34m.\u001b[0m\u001b[0mlegend\u001b[0m\u001b[0;34m(\u001b[0m\u001b[0mprop\u001b[0m\u001b[0;34m=\u001b[0m\u001b[0;34m{\u001b[0m\u001b[0;34m\"size\"\u001b[0m\u001b[0;34m:\u001b[0m \u001b[0;36m14\u001b[0m\u001b[0;34m}\u001b[0m\u001b[0;34m)\u001b[0m\u001b[0;34m\u001b[0m\u001b[0;34m\u001b[0m\u001b[0m\n",
            "\u001b[0;32m/usr/local/lib/python3.11/dist-packages/matplotlib/_api/deprecation.py\u001b[0m in \u001b[0;36mwrapper\u001b[0;34m(*args, **kwargs)\u001b[0m\n\u001b[1;32m    451\u001b[0m                 \u001b[0;34m\"parameter will become keyword-only in %(removal)s.\"\u001b[0m\u001b[0;34m,\u001b[0m\u001b[0;34m\u001b[0m\u001b[0;34m\u001b[0m\u001b[0m\n\u001b[1;32m    452\u001b[0m                 name=name, obj_type=f\"parameter of {func.__name__}()\")\n\u001b[0;32m--> 453\u001b[0;31m         \u001b[0;32mreturn\u001b[0m \u001b[0mfunc\u001b[0m\u001b[0;34m(\u001b[0m\u001b[0;34m*\u001b[0m\u001b[0margs\u001b[0m\u001b[0;34m,\u001b[0m \u001b[0;34m**\u001b[0m\u001b[0mkwargs\u001b[0m\u001b[0;34m)\u001b[0m\u001b[0;34m\u001b[0m\u001b[0;34m\u001b[0m\u001b[0m\n\u001b[0m\u001b[1;32m    454\u001b[0m \u001b[0;34m\u001b[0m\u001b[0m\n\u001b[1;32m    455\u001b[0m     \u001b[0;31m# Don't modify *func*'s signature, as boilerplate.py needs it.\u001b[0m\u001b[0;34m\u001b[0m\u001b[0;34m\u001b[0m\u001b[0m\n",
            "\u001b[0;32m/usr/local/lib/python3.11/dist-packages/matplotlib/pyplot.py\u001b[0m in \u001b[0;36mscatter\u001b[0;34m(x, y, s, c, marker, cmap, norm, vmin, vmax, alpha, linewidths, edgecolors, colorizer, plotnonfinite, data, **kwargs)\u001b[0m\n\u001b[1;32m   3937\u001b[0m     \u001b[0;34m**\u001b[0m\u001b[0mkwargs\u001b[0m\u001b[0;34m,\u001b[0m\u001b[0;34m\u001b[0m\u001b[0;34m\u001b[0m\u001b[0m\n\u001b[1;32m   3938\u001b[0m ) -> PathCollection:\n\u001b[0;32m-> 3939\u001b[0;31m     __ret = gca().scatter(\n\u001b[0m\u001b[1;32m   3940\u001b[0m         \u001b[0mx\u001b[0m\u001b[0;34m,\u001b[0m\u001b[0;34m\u001b[0m\u001b[0;34m\u001b[0m\u001b[0m\n\u001b[1;32m   3941\u001b[0m         \u001b[0my\u001b[0m\u001b[0;34m,\u001b[0m\u001b[0;34m\u001b[0m\u001b[0;34m\u001b[0m\u001b[0m\n",
            "\u001b[0;32m/usr/local/lib/python3.11/dist-packages/matplotlib/_api/deprecation.py\u001b[0m in \u001b[0;36mwrapper\u001b[0;34m(*args, **kwargs)\u001b[0m\n\u001b[1;32m    451\u001b[0m                 \u001b[0;34m\"parameter will become keyword-only in %(removal)s.\"\u001b[0m\u001b[0;34m,\u001b[0m\u001b[0;34m\u001b[0m\u001b[0;34m\u001b[0m\u001b[0m\n\u001b[1;32m    452\u001b[0m                 name=name, obj_type=f\"parameter of {func.__name__}()\")\n\u001b[0;32m--> 453\u001b[0;31m         \u001b[0;32mreturn\u001b[0m \u001b[0mfunc\u001b[0m\u001b[0;34m(\u001b[0m\u001b[0;34m*\u001b[0m\u001b[0margs\u001b[0m\u001b[0;34m,\u001b[0m \u001b[0;34m**\u001b[0m\u001b[0mkwargs\u001b[0m\u001b[0;34m)\u001b[0m\u001b[0;34m\u001b[0m\u001b[0;34m\u001b[0m\u001b[0m\n\u001b[0m\u001b[1;32m    454\u001b[0m \u001b[0;34m\u001b[0m\u001b[0m\n\u001b[1;32m    455\u001b[0m     \u001b[0;31m# Don't modify *func*'s signature, as boilerplate.py needs it.\u001b[0m\u001b[0;34m\u001b[0m\u001b[0;34m\u001b[0m\u001b[0m\n",
            "\u001b[0;32m/usr/local/lib/python3.11/dist-packages/matplotlib/__init__.py\u001b[0m in \u001b[0;36minner\u001b[0;34m(ax, data, *args, **kwargs)\u001b[0m\n\u001b[1;32m   1519\u001b[0m     \u001b[0;32mdef\u001b[0m \u001b[0minner\u001b[0m\u001b[0;34m(\u001b[0m\u001b[0max\u001b[0m\u001b[0;34m,\u001b[0m \u001b[0;34m*\u001b[0m\u001b[0margs\u001b[0m\u001b[0;34m,\u001b[0m \u001b[0mdata\u001b[0m\u001b[0;34m=\u001b[0m\u001b[0;32mNone\u001b[0m\u001b[0;34m,\u001b[0m \u001b[0;34m**\u001b[0m\u001b[0mkwargs\u001b[0m\u001b[0;34m)\u001b[0m\u001b[0;34m:\u001b[0m\u001b[0;34m\u001b[0m\u001b[0;34m\u001b[0m\u001b[0m\n\u001b[1;32m   1520\u001b[0m         \u001b[0;32mif\u001b[0m \u001b[0mdata\u001b[0m \u001b[0;32mis\u001b[0m \u001b[0;32mNone\u001b[0m\u001b[0;34m:\u001b[0m\u001b[0;34m\u001b[0m\u001b[0;34m\u001b[0m\u001b[0m\n\u001b[0;32m-> 1521\u001b[0;31m             return func(\n\u001b[0m\u001b[1;32m   1522\u001b[0m                 \u001b[0max\u001b[0m\u001b[0;34m,\u001b[0m\u001b[0;34m\u001b[0m\u001b[0;34m\u001b[0m\u001b[0m\n\u001b[1;32m   1523\u001b[0m                 \u001b[0;34m*\u001b[0m\u001b[0mmap\u001b[0m\u001b[0;34m(\u001b[0m\u001b[0mcbook\u001b[0m\u001b[0;34m.\u001b[0m\u001b[0msanitize_sequence\u001b[0m\u001b[0;34m,\u001b[0m \u001b[0margs\u001b[0m\u001b[0;34m)\u001b[0m\u001b[0;34m,\u001b[0m\u001b[0;34m\u001b[0m\u001b[0;34m\u001b[0m\u001b[0m\n",
            "\u001b[0;32m/usr/local/lib/python3.11/dist-packages/matplotlib/axes/_axes.py\u001b[0m in \u001b[0;36mscatter\u001b[0;34m(self, x, y, s, c, marker, cmap, norm, vmin, vmax, alpha, linewidths, edgecolors, colorizer, plotnonfinite, **kwargs)\u001b[0m\n\u001b[1;32m   4892\u001b[0m         \u001b[0medgecolors\u001b[0m \u001b[0;34m=\u001b[0m \u001b[0mkwargs\u001b[0m\u001b[0;34m.\u001b[0m\u001b[0mpop\u001b[0m\u001b[0;34m(\u001b[0m\u001b[0;34m'edgecolor'\u001b[0m\u001b[0;34m,\u001b[0m \u001b[0;32mNone\u001b[0m\u001b[0;34m)\u001b[0m\u001b[0;34m\u001b[0m\u001b[0;34m\u001b[0m\u001b[0m\n\u001b[1;32m   4893\u001b[0m         \u001b[0;31m# Process **kwargs to handle aliases, conflicts with explicit kwargs:\u001b[0m\u001b[0;34m\u001b[0m\u001b[0;34m\u001b[0m\u001b[0m\n\u001b[0;32m-> 4894\u001b[0;31m         \u001b[0mx\u001b[0m\u001b[0;34m,\u001b[0m \u001b[0my\u001b[0m \u001b[0;34m=\u001b[0m \u001b[0mself\u001b[0m\u001b[0;34m.\u001b[0m\u001b[0m_process_unit_info\u001b[0m\u001b[0;34m(\u001b[0m\u001b[0;34m[\u001b[0m\u001b[0;34m(\u001b[0m\u001b[0;34m\"x\"\u001b[0m\u001b[0;34m,\u001b[0m \u001b[0mx\u001b[0m\u001b[0;34m)\u001b[0m\u001b[0;34m,\u001b[0m \u001b[0;34m(\u001b[0m\u001b[0;34m\"y\"\u001b[0m\u001b[0;34m,\u001b[0m \u001b[0my\u001b[0m\u001b[0;34m)\u001b[0m\u001b[0;34m]\u001b[0m\u001b[0;34m,\u001b[0m \u001b[0mkwargs\u001b[0m\u001b[0;34m)\u001b[0m\u001b[0;34m\u001b[0m\u001b[0;34m\u001b[0m\u001b[0m\n\u001b[0m\u001b[1;32m   4895\u001b[0m         \u001b[0;31m# np.ma.ravel yields an ndarray, not a masked array,\u001b[0m\u001b[0;34m\u001b[0m\u001b[0;34m\u001b[0m\u001b[0m\n\u001b[1;32m   4896\u001b[0m         \u001b[0;31m# unless its argument is a masked array.\u001b[0m\u001b[0;34m\u001b[0m\u001b[0;34m\u001b[0m\u001b[0m\n",
            "\u001b[0;32m/usr/local/lib/python3.11/dist-packages/matplotlib/axes/_base.py\u001b[0m in \u001b[0;36m_process_unit_info\u001b[0;34m(self, datasets, kwargs, convert)\u001b[0m\n\u001b[1;32m   2615\u001b[0m             \u001b[0;31m# Update from data if axis is already set but no unit is set yet.\u001b[0m\u001b[0;34m\u001b[0m\u001b[0;34m\u001b[0m\u001b[0m\n\u001b[1;32m   2616\u001b[0m             \u001b[0;32mif\u001b[0m \u001b[0maxis\u001b[0m \u001b[0;32mis\u001b[0m \u001b[0;32mnot\u001b[0m \u001b[0;32mNone\u001b[0m \u001b[0;32mand\u001b[0m \u001b[0mdata\u001b[0m \u001b[0;32mis\u001b[0m \u001b[0;32mnot\u001b[0m \u001b[0;32mNone\u001b[0m \u001b[0;32mand\u001b[0m \u001b[0;32mnot\u001b[0m \u001b[0maxis\u001b[0m\u001b[0;34m.\u001b[0m\u001b[0mhave_units\u001b[0m\u001b[0;34m(\u001b[0m\u001b[0;34m)\u001b[0m\u001b[0;34m:\u001b[0m\u001b[0;34m\u001b[0m\u001b[0;34m\u001b[0m\u001b[0m\n\u001b[0;32m-> 2617\u001b[0;31m                 \u001b[0maxis\u001b[0m\u001b[0;34m.\u001b[0m\u001b[0mupdate_units\u001b[0m\u001b[0;34m(\u001b[0m\u001b[0mdata\u001b[0m\u001b[0;34m)\u001b[0m\u001b[0;34m\u001b[0m\u001b[0;34m\u001b[0m\u001b[0m\n\u001b[0m\u001b[1;32m   2618\u001b[0m         \u001b[0;32mfor\u001b[0m \u001b[0maxis_name\u001b[0m\u001b[0;34m,\u001b[0m \u001b[0maxis\u001b[0m \u001b[0;32min\u001b[0m \u001b[0maxis_map\u001b[0m\u001b[0;34m.\u001b[0m\u001b[0mitems\u001b[0m\u001b[0;34m(\u001b[0m\u001b[0;34m)\u001b[0m\u001b[0;34m:\u001b[0m\u001b[0;34m\u001b[0m\u001b[0;34m\u001b[0m\u001b[0m\n\u001b[1;32m   2619\u001b[0m             \u001b[0;31m# Return if no axis is set.\u001b[0m\u001b[0;34m\u001b[0m\u001b[0;34m\u001b[0m\u001b[0m\n",
            "\u001b[0;32m/usr/local/lib/python3.11/dist-packages/matplotlib/axis.py\u001b[0m in \u001b[0;36mupdate_units\u001b[0;34m(self, data)\u001b[0m\n\u001b[1;32m   1754\u001b[0m         \"\"\"\n\u001b[1;32m   1755\u001b[0m         \u001b[0;32mif\u001b[0m \u001b[0;32mnot\u001b[0m \u001b[0mself\u001b[0m\u001b[0;34m.\u001b[0m\u001b[0m_converter_is_explicit\u001b[0m\u001b[0;34m:\u001b[0m\u001b[0;34m\u001b[0m\u001b[0;34m\u001b[0m\u001b[0m\n\u001b[0;32m-> 1756\u001b[0;31m             \u001b[0mconverter\u001b[0m \u001b[0;34m=\u001b[0m \u001b[0mmunits\u001b[0m\u001b[0;34m.\u001b[0m\u001b[0mregistry\u001b[0m\u001b[0;34m.\u001b[0m\u001b[0mget_converter\u001b[0m\u001b[0;34m(\u001b[0m\u001b[0mdata\u001b[0m\u001b[0;34m)\u001b[0m\u001b[0;34m\u001b[0m\u001b[0;34m\u001b[0m\u001b[0m\n\u001b[0m\u001b[1;32m   1757\u001b[0m         \u001b[0;32melse\u001b[0m\u001b[0;34m:\u001b[0m\u001b[0;34m\u001b[0m\u001b[0;34m\u001b[0m\u001b[0m\n\u001b[1;32m   1758\u001b[0m             \u001b[0mconverter\u001b[0m \u001b[0;34m=\u001b[0m \u001b[0mself\u001b[0m\u001b[0;34m.\u001b[0m\u001b[0m_converter\u001b[0m\u001b[0;34m\u001b[0m\u001b[0;34m\u001b[0m\u001b[0m\n",
            "\u001b[0;32m/usr/local/lib/python3.11/dist-packages/matplotlib/units.py\u001b[0m in \u001b[0;36mget_converter\u001b[0;34m(self, x)\u001b[0m\n\u001b[1;32m    165\u001b[0m         \u001b[0;34m\"\"\"Get the converter interface instance for *x*, or None.\"\"\"\u001b[0m\u001b[0;34m\u001b[0m\u001b[0;34m\u001b[0m\u001b[0m\n\u001b[1;32m    166\u001b[0m         \u001b[0;31m# Unpack in case of e.g. Pandas or xarray object\u001b[0m\u001b[0;34m\u001b[0m\u001b[0;34m\u001b[0m\u001b[0m\n\u001b[0;32m--> 167\u001b[0;31m         \u001b[0mx\u001b[0m \u001b[0;34m=\u001b[0m \u001b[0mcbook\u001b[0m\u001b[0;34m.\u001b[0m\u001b[0m_unpack_to_numpy\u001b[0m\u001b[0;34m(\u001b[0m\u001b[0mx\u001b[0m\u001b[0;34m)\u001b[0m\u001b[0;34m\u001b[0m\u001b[0;34m\u001b[0m\u001b[0m\n\u001b[0m\u001b[1;32m    168\u001b[0m \u001b[0;34m\u001b[0m\u001b[0m\n\u001b[1;32m    169\u001b[0m         \u001b[0;32mif\u001b[0m \u001b[0misinstance\u001b[0m\u001b[0;34m(\u001b[0m\u001b[0mx\u001b[0m\u001b[0;34m,\u001b[0m \u001b[0mnp\u001b[0m\u001b[0;34m.\u001b[0m\u001b[0mndarray\u001b[0m\u001b[0;34m)\u001b[0m\u001b[0;34m:\u001b[0m\u001b[0;34m\u001b[0m\u001b[0;34m\u001b[0m\u001b[0m\n",
            "\u001b[0;32m/usr/local/lib/python3.11/dist-packages/matplotlib/cbook.py\u001b[0m in \u001b[0;36m_unpack_to_numpy\u001b[0;34m(x)\u001b[0m\n\u001b[1;32m   2359\u001b[0m         \u001b[0;31m# https://numpy.org/devdocs/user/basics.interoperability.html#using-arbitrary-objects-in-numpy\u001b[0m\u001b[0;34m\u001b[0m\u001b[0;34m\u001b[0m\u001b[0m\n\u001b[1;32m   2360\u001b[0m         \u001b[0;31m# therefore, let arrays do better if they can\u001b[0m\u001b[0;34m\u001b[0m\u001b[0;34m\u001b[0m\u001b[0m\n\u001b[0;32m-> 2361\u001b[0;31m         \u001b[0mxtmp\u001b[0m \u001b[0;34m=\u001b[0m \u001b[0mnp\u001b[0m\u001b[0;34m.\u001b[0m\u001b[0masarray\u001b[0m\u001b[0;34m(\u001b[0m\u001b[0mx\u001b[0m\u001b[0;34m)\u001b[0m\u001b[0;34m\u001b[0m\u001b[0;34m\u001b[0m\u001b[0m\n\u001b[0m\u001b[1;32m   2362\u001b[0m \u001b[0;34m\u001b[0m\u001b[0m\n\u001b[1;32m   2363\u001b[0m         \u001b[0;31m# In case np.asarray method does not return a numpy array in future\u001b[0m\u001b[0;34m\u001b[0m\u001b[0;34m\u001b[0m\u001b[0m\n",
            "\u001b[0;32m/usr/local/lib/python3.11/dist-packages/torch/_tensor.py\u001b[0m in \u001b[0;36m__array__\u001b[0;34m(self, dtype)\u001b[0m\n\u001b[1;32m   1192\u001b[0m             \u001b[0;32mreturn\u001b[0m \u001b[0mhandle_torch_function\u001b[0m\u001b[0;34m(\u001b[0m\u001b[0mTensor\u001b[0m\u001b[0;34m.\u001b[0m\u001b[0m__array__\u001b[0m\u001b[0;34m,\u001b[0m \u001b[0;34m(\u001b[0m\u001b[0mself\u001b[0m\u001b[0;34m,\u001b[0m\u001b[0;34m)\u001b[0m\u001b[0;34m,\u001b[0m \u001b[0mself\u001b[0m\u001b[0;34m,\u001b[0m \u001b[0mdtype\u001b[0m\u001b[0;34m=\u001b[0m\u001b[0mdtype\u001b[0m\u001b[0;34m)\u001b[0m\u001b[0;34m\u001b[0m\u001b[0;34m\u001b[0m\u001b[0m\n\u001b[1;32m   1193\u001b[0m         \u001b[0;32mif\u001b[0m \u001b[0mdtype\u001b[0m \u001b[0;32mis\u001b[0m \u001b[0;32mNone\u001b[0m\u001b[0;34m:\u001b[0m\u001b[0;34m\u001b[0m\u001b[0;34m\u001b[0m\u001b[0m\n\u001b[0;32m-> 1194\u001b[0;31m             \u001b[0;32mreturn\u001b[0m \u001b[0mself\u001b[0m\u001b[0;34m.\u001b[0m\u001b[0mnumpy\u001b[0m\u001b[0;34m(\u001b[0m\u001b[0;34m)\u001b[0m\u001b[0;34m\u001b[0m\u001b[0;34m\u001b[0m\u001b[0m\n\u001b[0m\u001b[1;32m   1195\u001b[0m         \u001b[0;32melse\u001b[0m\u001b[0;34m:\u001b[0m\u001b[0;34m\u001b[0m\u001b[0;34m\u001b[0m\u001b[0m\n\u001b[1;32m   1196\u001b[0m             \u001b[0;32mreturn\u001b[0m \u001b[0mself\u001b[0m\u001b[0;34m.\u001b[0m\u001b[0mnumpy\u001b[0m\u001b[0;34m(\u001b[0m\u001b[0;34m)\u001b[0m\u001b[0;34m.\u001b[0m\u001b[0mastype\u001b[0m\u001b[0;34m(\u001b[0m\u001b[0mdtype\u001b[0m\u001b[0;34m,\u001b[0m \u001b[0mcopy\u001b[0m\u001b[0;34m=\u001b[0m\u001b[0;32mFalse\u001b[0m\u001b[0;34m)\u001b[0m\u001b[0;34m\u001b[0m\u001b[0;34m\u001b[0m\u001b[0m\n",
            "\u001b[0;31mTypeError\u001b[0m: can't convert cuda:0 device type tensor to numpy. Use Tensor.cpu() to copy the tensor to host memory first."
          ]
        },
        {
          "output_type": "display_data",
          "data": {
            "text/plain": [
              "<Figure size 1000x700 with 1 Axes>"
            ],
            "image/png": "[encoded data removed]"
          },
          "metadata": {}
        }
      ]
    },
    {
      "cell_type": "code",
      "source": [
        "plot_predictions(predictions=y_preds.cpu())\n"
      ],
      "metadata": {
        "colab": {
          "base_uri": "https://localhost:8080/",
          "height": 460
        },
        "id": "kNESdp-xJ6Z3",
        "outputId": "c8751acc-c235-45c9-d875-9367a38e9898"
      },
      "execution_count": 126,
      "outputs": [
        {
          "output_type": "display_data",
          "data": {
            "text/plain": [
              "<Figure size 1000x700 with 1 Axes>"
            ],
            "image/png": "[encoded data removed]"
          },
          "metadata": {}
        }
      ]
    },
    {
      "cell_type": "markdown",
      "source": [
        "# saving and loading the trained model\n"
      ],
      "metadata": {
        "id": "EncUN1INKH0u"
      }
    },
    {
      "cell_type": "code",
      "source": [
        "from pathlib import Path\n",
        "# 1. Create models directory\n",
        "MODEL_PATH = Path(\"models\")\n",
        "MODEL_PATH.mkdir(parents=True, exist_ok=True)\n",
        "\n",
        "# 2. Create model save path\n",
        "MODEL_NAME = \"01_pytorch_workflow_model_1.pth\"\n",
        "MODEL_SAVE_PATH = MODEL_PATH / MODEL_NAME\n",
        "\n",
        "# 3. Save the model state dict\n",
        "print(f\"Saving model to: {MODEL_SAVE_PATH}\")\n",
        "torch.save(obj=model_1.state_dict(),\n",
        "           f=MODEL_SAVE_PATH)"
      ],
      "metadata": {
        "colab": {
          "base_uri": "https://localhost:8080/"
        },
        "id": "wWutZLb-KLjc",
        "outputId": "f39c54ef-00bd-4c29-caee-6593289b25ab"
      },
      "execution_count": 127,
      "outputs": [
        {
          "output_type": "stream",
          "name": "stdout",
          "text": [
            "Saving model to: models/01_pytorch_workflow_model_1.pth\n"
          ]
        }
      ]
    },
    {
      "cell_type": "code",
      "source": [
        "model1_state_dict = model_1.state_dict()\n",
        "model1_state_dict"
      ],
      "metadata": {
        "colab": {
          "base_uri": "https://localhost:8080/"
        },
        "id": "UBp5yZMKKzki",
        "outputId": "420e5f6f-4600-46d6-b972-fc21baa4e7a1"
      },
      "execution_count": 128,
      "outputs": [
        {
          "output_type": "execute_result",
          "data": {
            "text/plain": [
              "OrderedDict([('linear_layer.weight', tensor([[0.6968]], device='cuda:0')),\n",
              "             ('linear_layer.bias', tensor([0.3025], device='cuda:0'))])"
            ]
          },
          "metadata": {},
          "execution_count": 128
        }
      ]
    },
    {
      "cell_type": "code",
      "source": [
        "# Load a PyTorch model\n",
        "loaded_model_1 = linearRegressionModelV2()\n",
        "loaded_model_1.load_state_dict(torch.load(f=MODEL_SAVE_PATH))\n",
        "loaded_model_1.eval()"
      ],
      "metadata": {
        "colab": {
          "base_uri": "https://localhost:8080/"
        },
        "id": "bzb0B0WHK7u5",
        "outputId": "f61146d1-2170-434d-b326-7aea79009863"
      },
      "execution_count": 129,
      "outputs": [
        {
          "output_type": "execute_result",
          "data": {
            "text/plain": [
              "linearRegressionModelV2(\n",
              "  (linear_layer): Linear(in_features=1, out_features=1, bias=True)\n",
              ")"
            ]
          },
          "metadata": {},
          "execution_count": 129
        }
      ]
    },
    {
      "cell_type": "code",
      "source": [
        "next(loaded_model_1.parameters()).device"
      ],
      "metadata": {
        "colab": {
          "base_uri": "https://localhost:8080/"
        },
        "id": "v-aT_vQPLHc8",
        "outputId": "8b7706a7-062b-4a77-c20a-98a8db92c3ec"
      },
      "execution_count": 130,
      "outputs": [
        {
          "output_type": "execute_result",
          "data": {
            "text/plain": [
              "device(type='cpu')"
            ]
          },
          "metadata": {},
          "execution_count": 130
        }
      ]
    },
    {
      "cell_type": "code",
      "source": [
        "# Evaluate loaded model\n",
        "loaded_model_1.eval()\n",
        "# Move the model to the same device as X_test\n",
        "loaded_model_1.to(X_test.device)\n",
        "with torch.inference_mode():\n",
        "  loaded_model_1_preds = loaded_model_1(X_test)\n",
        "y_preds == loaded_model_1_preds # Compare loaded model predictions with the previous predictions"
      ],
      "metadata": {
        "colab": {
          "base_uri": "https://localhost:8080/"
        },
        "id": "2D2RAfbxLaJs",
        "outputId": "f424914f-e736-43c9-b900-b4204b8780bb"
      },
      "execution_count": 134,
      "outputs": [
        {
          "output_type": "execute_result",
          "data": {
            "text/plain": [
              "tensor([[True],\n",
              "        [True],\n",
              "        [True],\n",
              "        [True],\n",
              "        [True],\n",
              "        [True],\n",
              "        [True],\n",
              "        [True],\n",
              "        [True],\n",
              "        [True]], device='cuda:0')"
            ]
          },
          "metadata": {},
          "execution_count": 134
        }
      ]
    }
  ]
}